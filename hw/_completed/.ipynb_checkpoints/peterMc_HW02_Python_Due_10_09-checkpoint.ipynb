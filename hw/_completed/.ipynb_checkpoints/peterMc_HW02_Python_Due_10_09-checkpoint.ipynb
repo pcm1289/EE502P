{
 "cells": [
  {
   "cell_type": "markdown",
   "metadata": {
    "ExecuteTime": {
     "end_time": "2019-09-24T16:05:23.746666Z",
     "start_time": "2019-09-24T16:05:23.741461Z"
    }
   },
   "source": [
    "## EE 502 P: Analytical Methods for Electrical Engineering\n",
    "    \n",
    "# Homework 2: Sets, functions, and relations\n",
    "## Due 9 October, 2019 at 6:00 PM\n",
    "### **<span style=\"color: green\">Peter McEldowney</span>**\n",
    "\n",
    "Copyright &copy; 2019, University of Washington\n",
    "\n",
    "<hr>\n",
    "\n",
    "**Instructions**: Use this notebook as a template. Answer all questions using well formatted Markdown with embedded LaTeX equations, executable Jupyter cells, or both. Submit your homework solutions as an `.ipynb` file via Canvas.\n",
    "\n",
    "<span style=\"background: yellow; padding: 6px; border: 1pt solid black\">\n",
    "Although you may discuss the homework with others, you must turn in your own, original work.\n",
    "</span>\n",
    "\n",
    "**Things to remember:**\n",
    "- Use complete sentences. Equations should appear in text as grammatical elements.\n",
    "- Comment your code.\n",
    "- Label your axes. Title your plots. Use legends where appropriate. \n",
    "- Before submitting a notebook, choose Kernel -> Restart and Run All to make sure your notebook runs when the cells are evaluated in order. \n",
    "\n",
    "Note : Late homework will be accepted up to one week after the due date and will be worth 50% of its full credit score. "
   ]
  },
  {
   "cell_type": "markdown",
   "metadata": {},
   "source": [
    "### 0. Warmup (Do not turn in)\n",
    "\n",
    "- Make sure you get download and run the notebook for lecture 2. Work through the notebook cell by cell and see what happens when you change the expressions, and make up some of your own.\n",
    "- Read chapter one of [An Introduction to Real Analysis](https://www.math.ucdavis.edu/~hunter/intro_analysis_pdf/intro_analysis.html) by John K. Hunter. You can skim the sections on index sets and infinite unions and intersections.\n",
    "- Read up on [sets](https://www.w3schools.com/python/python_sets.asp), [tuples](https://www.w3schools.com/python/python_tuples.asp), and [lambdas](https://www.w3schools.com/python/python_lambda.asp) at python.org."
   ]
  },
  {
   "cell_type": "markdown",
   "metadata": {},
   "source": [
    "- - -\n",
    "- - -\n",
    "\n",
    "### **1.** Set properties\n",
    "\n",
    "Given the follow definitions of sets\n",
    "\n",
    "$$A = \\{1,2,3\\}$$\n",
    "$$B = \\{3,4,5\\}$$\n",
    "$$C = \\{3,4,5,6,7\\}$$\n",
    "\n",
    "determine which of the following properties hold:\n",
    "\n",
    "$$0 \\in A$$\n",
    "\n",
    "$$4 \\in B \\cap C$$\n",
    "\n",
    "$$5 \\in C-B$$\n",
    "\n",
    "$$A \\subseteq B$$\n",
    "\n",
    "$$A \\subseteq C$$\n",
    "\n",
    "$$A \\cap B \\subseteq A$$\n",
    "\n",
    "$$B \\subseteq C$$\n",
    "\n",
    "If the property holds, say why. If it does not hold, give a counterexample showing the definition is not satisfied. \n",
    "- - -"
   ]
  },
  {
   "cell_type": "markdown",
   "metadata": {},
   "source": [
    "#### **Answers**\n",
    "\n",
    "$$ 0 \\in A $$\n",
    "<span style=\"color: red\"> $\\times$ </span> \\\n",
    "    If we take the intersection of $ A \\cap \\{0\\} $ we get the empty set so it must be the case that $ 0 \\not \\in A $\n",
    "\n",
    "$$ 4 \\in B \\cap C $$\n",
    "<span style=\"color: green\"> $ \\checkmark $ </span> \\\n",
    "    We can look at this in one of 2 ways. Either we can say that since $ 4 \\in B $ and $ 4 \\in C $, $ 4 $ is also in the intersection. Or we can just say that since $ 4 \\in B $ and $ B \\cap C = B = \\{ 3, 4, 5 \\} $, 4 is in the intersection.\n",
    "\n",
    "$$ 5 \\in C-B $$\n",
    "<span style=\"color: red\"> $\\times$ </span> \\\n",
    "    Since $ 5 \\in B $ and by definition, you are removing all elements that are in $ B $, $ 5 \\not \\in C-B $ \n",
    "\n",
    "$$ A \\subseteq B $$\n",
    "<span style=\"color: red\"> $\\times$ </span> \\\n",
    "    If $ A \\subseteq B $, then it must be that the cardinality of $ |A \\cap B| = |A| $, but since $ |A| = 3 $ and $ | A \\subseteq B | = 3 $ , we are left with a contradiction.\n",
    "\n",
    "$$ A \\subseteq C $$\n",
    "<span style=\"color: red\"> $\\times$ </span> \\\n",
    "We can use the same argument as above. \\\n",
    "    Assume $ A \\subseteq C $. We then know that the $ |A| = | A \\subseteq C | $. However, the $ |A| = 3 $ and the $ | A \\cap C | = 1 $. Therefore, it must be the case that our initial assumption was incorrect so $ A \\not \\subseteq C $.\n",
    "\n",
    "$$ A \\cap B \\subseteq A $$\n",
    "<span style=\"color: green\"> $ \\checkmark $ </span> \\\n",
    "     Since $ A $ or any subset of $ A $ will always be part of $ A $, taking the elements that are in both $ A \\cap B $ will always contain a subset of $ A $\n",
    "\n",
    "$$ B \\subseteq C $$\n",
    "<span style=\"color: green\"> $ \\checkmark $ </span> \\\n",
    "    For a small set such as this, it is easy to visually check it with a basic $ O(n) $ linear search. $ 3 \\in {3,4,5,6,7} $ and $ 4 \\in {3,4,5,6,7} $ and $ 5 \\in {3,4,5,6,7} $ and since that is every element in $ B $, $ B \\subseteq C $."
   ]
  },
  {
   "cell_type": "markdown",
   "metadata": {},
   "source": [
    "- - -\n",
    "- - -\n",
    "\n",
    "### 2. Set operations\n",
    "\n",
    "Let $A = \\{ 1,2,3,4,5 \\}$ and $B = \\{ 0,3,6 \\}$. Find\n",
    "\n",
    "a) $A \\cup B$\n",
    "\n",
    "b) $A \\cap B$\n",
    "\n",
    "c) $A - B$\n",
    "\n",
    "d) $B - A$\n",
    "\n",
    "Verify your results using Python sets.\n",
    "\n",
    "- - -"
   ]
  },
  {
   "cell_type": "markdown",
   "metadata": {},
   "source": [
    "#### **Answers**"
   ]
  },
  {
   "cell_type": "code",
   "execution_count": 1,
   "metadata": {},
   "outputs": [],
   "source": [
    "A = {1,2,3,4,5}\n",
    "B = {0,3,6}"
   ]
  },
  {
   "cell_type": "markdown",
   "metadata": {},
   "source": [
    "**a)** $A \\cup B$\n",
    "\n",
    "$ \\{1,2,3,4,5\\} \\cup \\{0,3,6\\} = \\{0,1,2,3,4,5,6\\} $"
   ]
  },
  {
   "cell_type": "code",
   "execution_count": 12,
   "metadata": {},
   "outputs": [
    {
     "data": {
      "text/plain": [
       "{0, 1, 2, 3, 4, 5, 6}"
      ]
     },
     "execution_count": 12,
     "metadata": {},
     "output_type": "execute_result"
    }
   ],
   "source": [
    "A.union(B)"
   ]
  },
  {
   "cell_type": "markdown",
   "metadata": {},
   "source": [
    "**b)** $A \\cap B$\n",
    "\n",
    "$ \\{1,2,3,4,5\\} \\cap \\{0,3,6\\} = \\{3\\} $"
   ]
  },
  {
   "cell_type": "code",
   "execution_count": 16,
   "metadata": {},
   "outputs": [
    {
     "data": {
      "text/plain": [
       "{3}"
      ]
     },
     "execution_count": 16,
     "metadata": {},
     "output_type": "execute_result"
    }
   ],
   "source": [
    "A.intersection(B)"
   ]
  },
  {
   "cell_type": "markdown",
   "metadata": {},
   "source": [
    "**c)** $A - B$\n",
    "\n",
    "$ \\{1,2,3,4,5\\} - \\{0,3,6\\} = \\{1,2,4,5\\} $"
   ]
  },
  {
   "cell_type": "code",
   "execution_count": 17,
   "metadata": {},
   "outputs": [
    {
     "data": {
      "text/plain": [
       "{1, 2, 4, 5}"
      ]
     },
     "execution_count": 17,
     "metadata": {},
     "output_type": "execute_result"
    }
   ],
   "source": [
    "A - B"
   ]
  },
  {
   "cell_type": "markdown",
   "metadata": {},
   "source": [
    "**d)** $B - A$\n",
    "\n",
    "$ \\{0,3,6\\} - \\{1,2,3,4,5\\} = \\{0,6\\} $"
   ]
  },
  {
   "cell_type": "code",
   "execution_count": 18,
   "metadata": {},
   "outputs": [
    {
     "data": {
      "text/plain": [
       "{0, 6}"
      ]
     },
     "execution_count": 18,
     "metadata": {},
     "output_type": "execute_result"
    }
   ],
   "source": [
    "B - A"
   ]
  },
  {
   "cell_type": "markdown",
   "metadata": {},
   "source": [
    "- - -\n",
    "- - -\n",
    "\n",
    "### 3. Set Proofs\n",
    "\n",
    "Using the definitions of the set operations, the definition of the subset relation, and basic logic, show the following are true.\n",
    "\n",
    "a) $A - B \\subseteq A$\n",
    "\n",
    "b) $A \\cap (B-A) = \\varnothing$\n",
    "\n",
    "c) $A \\cup (B-A) = A \\cup B$\n",
    "\n",
    "Show examples using small sets in Python illustrating each property. \n",
    "\n",
    "- - -"
   ]
  },
  {
   "cell_type": "markdown",
   "metadata": {},
   "source": [
    "#### **Answers**\n",
    "\n",
    "**a)** $A - B \\subseteq A$\n",
    "\n",
    "Definition: $ A - B = C $\\\n",
    "$ C = \\{ x_i | x_i \\in A $ and $ x_i \\not \\in B \\} $\n",
    "\n",
    "Definition: $ C \\subseteq A $\\\n",
    "$ \\forall c_i \\in C $ $ \\exists a_i \\in A $ where $ c_i = a_i $\n",
    "\n",
    "From the first definition above, we know that every element in the resulting set of $ A - B $ is in $ A $ and since $ A \\subseteq A $, we know that $ A-B \\subseteq A $\n",
    "\n",
    "For example, consider the sets:\\\n",
    "$ A = \\{1,2,3\\} $\\\n",
    "$ B = \\{1,2\\} $\n",
    "\n",
    "$ A - B = \\{3\\} $\\\n",
    "$ \\{3\\} \\subseteq A $"
   ]
  },
  {
   "cell_type": "code",
   "execution_count": 10,
   "metadata": {},
   "outputs": [
    {
     "name": "stdout",
     "output_type": "stream",
     "text": [
      "A = {1, 2, 3}\n",
      "B = {1, 2}\n",
      "A - B = {3}\n",
      "A - B \\subseteq A: True\n"
     ]
    }
   ],
   "source": [
    "A = {1,2,3}\n",
    "B = {1,2}\n",
    "\n",
    "print('A = %s' % (str(A)))\n",
    "print('B = %s' % (str(B)))\n",
    "print('A - B = %s' % (str(A - B)))\n",
    "print('A - B \\subseteq A: %s' % (str((A-B).issubset(A))))"
   ]
  },
  {
   "cell_type": "markdown",
   "metadata": {},
   "source": [
    "- - -\n",
    "**b)** $A \\cap (B-A) = \\varnothing$\n",
    "\n",
    "Definition: $ B - A = C $\\\n",
    "$ C = \\{ x_i | x_i \\in B $ and $ x_i \\not \\in A \\} $\n",
    "\n",
    "Defintion: $ A \\cap C = D $\\\n",
    "$ D = \\{ x_i | x_i \\in A $ and $ x_i \\in C \\} $\n",
    "\n",
    "Definition: $ \\varnothing $\\\n",
    "This is just the empty set\n",
    "\n",
    "From the definition above, we know that $ B-A $ has elements $ x_i $ that only exist in $ B $ and not $ A $. However, if we look at the 2nd definition above, we know that the resulting set of $ A \\cap C $ must contain elements from $ A $ and $ C $ (or $B-A$ in this case) but since from the first definition, $B-A$ contains no elements from $A$, $A \\cap (B-A)$ must be the empty set.\n",
    "\n",
    "For example, consider the following sets:\\\n",
    "$ A = \\{1,2,3\\} $\\\n",
    "$ B = \\{3,4,5\\} $\n",
    "\n",
    "$ B - A = \\{4,5\\} $\\\n",
    "However, since neither 4 nor 5 are in $A$,\\\n",
    "$ A \\cap (B-A) = \\{\\} $"
   ]
  },
  {
   "cell_type": "code",
   "execution_count": 14,
   "metadata": {},
   "outputs": [
    {
     "name": "stdout",
     "output_type": "stream",
     "text": [
      "A = {1, 2, 3}\n",
      "B = {3, 4, 5}\n",
      "A \\intersect (B-A): set()\n",
      "intersection is empty: True\n"
     ]
    }
   ],
   "source": [
    "A = {1,2,3}\n",
    "B = {3,4,5}\n",
    "\n",
    "print('A = %s' % (str(A)))\n",
    "print('B = %s' % (str(B)))\n",
    "print('A \\intersect (B-A): %s' % (A.intersection(B-A)))\n",
    "print('intersection is empty: %s' % (str(A.intersection(B-A) == set({}))))"
   ]
  },
  {
   "cell_type": "code",
   "execution_count": 28,
   "metadata": {},
   "outputs": [
    {
     "name": "stdout",
     "output_type": "stream",
     "text": [
      "[PASS] took 0:00:00.059262\n"
     ]
    }
   ],
   "source": [
    "# Just for fun, I wrote a program to randomly test this\n",
    "# I know it's true but I just wanted to test python's implementation :P\n",
    "import datetime\n",
    "import random\n",
    "\n",
    "def get_random_range(n, m):\n",
    "    \"\"\" Return a pair of unique random numbers  between n and m \n",
    "    with the smaller number first\n",
    "    \"\"\"\n",
    "    if n >= m:\n",
    "        print('n must be smaller than m')\n",
    "        return n, n+1\n",
    "    r0 = random.randint(n,m)\n",
    "    r1 = random.randint(n,m)\n",
    "    while r1 == r0:\n",
    "        r1 = random.randint(n,m)\n",
    "    return (r0, r1) if r0 < r1 else (r1, r0)\n",
    "\n",
    "def run_test(num_trials=1000, abs_min=-1000, abs_max=1000):\n",
    "    count_fail = 0\n",
    "    failing_sets = []\n",
    "\n",
    "    #for _ in range(1_000_000):\n",
    "    for _ in range(num_trials):\n",
    "        a_0, a_n = get_random_range(abs_min, abs_max)\n",
    "        b_0, b_n = get_random_range(abs_min, abs_max)\n",
    "        A = set(range(a_0, a_n))\n",
    "        B = set(range(b_0, b_n))\n",
    "        if (B-A).intersection(A) != set({}):\n",
    "            count_fail += 1\n",
    "            failing_sets.append((A,B))\n",
    "\n",
    "    return count_fail, failing_sets\n",
    "\n",
    "start = datetime.datetime.now()\n",
    "num_times_NOT_the_empty_set, failing_sets = run_test()\n",
    "assert num_times_NOT_the_empty_set == 0, '[FAIL] uh oh, found an example '\\\n",
    "        'where this doesn\\'t hold:\\n%s' % ('\\n'.join(failing_sets))\n",
    "print('[PASS] took %s' % (datetime.datetime.now() - start))"
   ]
  },
  {
   "cell_type": "markdown",
   "metadata": {},
   "source": [
    "- - -\n",
    "**c)** $A \\cup (B-A) = A \\cup B$\n",
    "\n",
    "Definition: $ A \\cup B = \\{ x_i | x_i \\in A $ or $ x_i \\in B \\} $\n",
    "\n",
    "Definition: $ B - A = \\{ x_i | x_i \\in B $ and $ x_i \\not \\in A \\} $\n",
    "\n",
    "The first definition says that any element in the resulting set is either a member of $A$ or a member of $B$ (or could be a member of both). The second definition says that the elements in the resulting set can only be a member of $B$ but not $A$. If we look at the resulting set of the union of $A$ and all the unique elements of $B$ (that are not in $A$), we end up with the same result as $A \\cup B$ because the only elements removed from $B$ were added again by the union with $A$.\n",
    "\n",
    "For example, consider the sets:\n",
    "\n",
    "$ A = \\{0,1,2\\} $\\\n",
    "$ B = \\{1,2,3,4\\} $\\\n",
    "$ B - A = \\{3, 4\\} $\\\n",
    "$ A \\cup (B-A) = \\{0, 1, 2, 3, 4\\} $\\\n",
    "$ A \\cup B = \\{0, 1, 2, 3, 4\\} $\\\n",
    "Thus we have demonstrated that for this example, $ A \\cup (B-A) = A \\cup B $"
   ]
  },
  {
   "cell_type": "code",
   "execution_count": 33,
   "metadata": {},
   "outputs": [
    {
     "name": "stdout",
     "output_type": "stream",
     "text": [
      "B - A = {3, 4}\n",
      "A \\union (B-A) = {0, 1, 2, 3, 4}\n",
      "A \\union B = {0, 1, 2, 3, 4}\n",
      "A \\union (B-A) == A \\union B: True\n"
     ]
    }
   ],
   "source": [
    "A = {0,1,2}\n",
    "B = {1,2,3,4}\n",
    "\n",
    "print('B - A = %s' % (str(B - A)))\n",
    "print('A \\\\union (B-A) = %s' % (A.union(B-A)))\n",
    "print('A \\\\union B = %s' % (A.union(B)))\n",
    "print('A \\\\union (B-A) == A \\\\union B: %s' % (A.union(B-A) == A.union(B)))"
   ]
  },
  {
   "cell_type": "markdown",
   "metadata": {
    "ExecuteTime": {
     "end_time": "2019-09-30T20:21:35.986395Z",
     "start_time": "2019-09-30T20:21:35.964585Z"
    }
   },
   "source": [
    "- - -\n",
    "- - -\n",
    "\n",
    "### 4. Cartesian Products\n",
    "\n",
    "a) If $A_i$ has $n_i$ elements, how many elements does $A_1 \\times A_2 \\times \\dots A_n$ have? Why?\n",
    "\n",
    "b) Give an example where the numbers of elements in $A_1 \\times A_2 \\times \\dots A_n$ is 1.\n",
    "\n",
    "c) Give examples of nonempty sets $A$ and $B$ where $A \\times B = B \\times A$.\n",
    "\n",
    "- - -"
   ]
  },
  {
   "cell_type": "code",
   "execution_count": 14,
   "metadata": {
    "ExecuteTime": {
     "end_time": "2019-09-30T20:21:35.986395Z",
     "start_time": "2019-09-30T20:21:35.964585Z"
    }
   },
   "outputs": [
    {
     "data": {
      "text/plain": [
       "{(1, 1)}"
      ]
     },
     "execution_count": 14,
     "metadata": {},
     "output_type": "execute_result"
    }
   ],
   "source": [
    "def cartesian_product(X,Y):\n",
    "    return {(x,y) for x in X for y in Y}\n",
    "\n",
    "def n_fold_cartesian_product(X_list, Y_list):\n",
    "    res = set()\n",
    "    for X in X_list:\n",
    "        for Y in Y_list:\n",
    "            res = res.union(cartesian_product(X,Y))\n",
    "    return res\n",
    "\n",
    "A_1 = {1}\n",
    "A_2 = {1}\n",
    "A_3 = {1}\n",
    "\n",
    "A = [A_1, A_2, A_3]\n",
    "B = [A_1, A_2, A_3]\n",
    "\n",
    "n_fold_cartesian_product(A,B)"
   ]
  },
  {
   "cell_type": "markdown",
   "metadata": {
    "ExecuteTime": {
     "end_time": "2019-09-30T20:21:35.986395Z",
     "start_time": "2019-09-30T20:21:35.964585Z"
    }
   },
   "source": [
    "#### **Answers**\n",
    "\n",
    "**a)** If $A_i$ has $n_i$ elements, how many elements does $A_1 \\times A_2 \\times \\dots A_n$ have? Why?\n",
    "\n",
    "Since we are taking every element in set $ A_i $ and combining it with every element in $ A_j $, we get a resultant cardinality of $ n_i \\cdot n_j $. Consider $ A_i \\times A_j = A_k $. If we look at the cardinality of the cartesian product of $ A_k \\times A_z $, we get $ n_k \\cdot n_z $ but we already know that $ n_k = n_i \\cdot n_j $. Therefore, $|A_i \\times A_j \\times A_z| = n_i \\cdot n_j \\cdot n_z $.\n",
    "\n",
    "\n",
    "**b)** Give an example where the numbers of elements in $A_1 \\times A_2 \\times \\dots A_n$ is 1.\n",
    "\n",
    "One example where $ |A_1 \\times A_2 \\times \\dots A_n| = 1$ is where $ A_i = {1} $ where $ 1 \\le i \\le n $. This happens because when you take the cartesian product of $ A_i \\times A_j $ (where $ i \\not = j $), you get the same resulting tuple as $ A_i \\times A_k $ (where $ i \\not = j \\not = k $). Therefore, the product (no matter what $n$ is) will always result in the same element, thus never adding any new element to the resulting cartesian product.\n",
    "\n",
    "\n",
    "**c)** Give examples of nonempty sets $A$ and $B$ where $A \\times B = B \\times A$.\n",
    "\n",
    "The most simple example that I can think of is where $ A \\subseteq B $ and $ B \\subseteq A $ (meaning that $ A = B $). This means that when you take the cartesian product, every element will always be paired with every other element in the set. Since sets are unordered, the sets are equivalent.\n",
    "\n",
    "For example, consider $ A = \\{a,b\\} $ and $ B = \\{a,b\\} $.\\\n",
    "$ A \\times B = \\{(a,a), (a,b), (b,a), (b,b)\\} $ and $ B \\times A = \\{(a,a), (a,b), (b,a), (b,b)\\} $ which are the same."
   ]
  },
  {
   "cell_type": "markdown",
   "metadata": {},
   "source": [
    "- - -\n",
    "- - -\n",
    "\n",
    "### 5. Function Properties\n",
    "\n",
    "Plot each of the following functions from $\\mathbb{Z}$ to $\\mathbb{Z}$ over a representative subdomain (use points and not a line since the domain is $\\mathbb{Z}$. What is the range of each function? State which of them are injective, which are surjective, and which are bijective. For functions for which a given property holds, explain why. For functions for which the given property does not hold, give a counterexample.\n",
    "\n",
    "a) $f(n) = n-1$\n",
    "\n",
    "b) $f(n) = n^3$\n",
    "\n",
    "c) $f(n) = n^2 + 1$\n",
    "\n",
    "d) $f(n) = \\lceil n/2 \\rceil$\n",
    "\n",
    "- - -"
   ]
  },
  {
   "cell_type": "markdown",
   "metadata": {},
   "source": [
    "#### **Answers**\n",
    "\n",
    "**a)** $f(n) = n-1$\n",
    "\n",
    "The range of $f(n)$ is $ \\mathbb{Z} $.\\\n",
    "**Injective:** Every element in the domain corresponds to exactly one element in the range.\\\n",
    "**Surjective:** Every element in the range has a corresponding element in the domain that maps to it (in other words, $ \\forall f(n) $ $ \\exists n \\in \\mathbb{Z} $\\\n",
    "**Bijection:** Since $f(n)$ is both injective and surjective, it is a bijection. This means that for every element in the set $f(n)$, there is an element in $n$ that maps to it and for every element in $n$, there is a corresponding element in $f(n)$."
   ]
  },
  {
   "cell_type": "code",
   "execution_count": 32,
   "metadata": {},
   "outputs": [
    {
     "data": {
      "text/plain": [
       "[<matplotlib.lines.Line2D at 0x20682a4eda0>]"
      ]
     },
     "execution_count": 32,
     "metadata": {},
     "output_type": "execute_result"
    },
    {
     "data": {
      "image/png": "[encoded data removed]",
      "text/plain": [
       "<Figure size 432x288 with 1 Axes>"
      ]
     },
     "metadata": {
      "needs_background": "light"
     },
     "output_type": "display_data"
    }
   ],
   "source": [
    "import matplotlib.pyplot as plt\n",
    "\n",
    "f = lambda n : n + 1\n",
    "n = range(-10, 10)\n",
    "plt.plot(n, [f(n) for n in n], 'o')"
   ]
  },
  {
   "cell_type": "markdown",
   "metadata": {},
   "source": [
    "**b)** $f(n) = n^3$\n",
    "\n",
    "The range of $f(n)$ is $ \\{x_i | \\sqrt[3]{x_i} \\in \\mathbb{Z} \\} $.\\\n",
    "**Injective:** Every input $x_i \\in \\mathbb{Z}$ has a corresponding element in $range(f(n))$ so $f(n)$ is injective.\\\n",
    "**Not surjective:** There are some elements of $f(n)$ that do not have a corresponding $n\\in\\mathbb{Z}$. For example, $\\sqrt[3]{3} \\not\\in \\mathbb{Z}$ since $\\sqrt[3]{3} \\approx 1.44225$.\\\n",
    "**Not a bijection:** Although $f(n)$ is injective, it is not surjective from the example above. Therefore, there are elements (in this case many of them) that are in $range(f(n))$ that are not in $n$. For example, $\\{2,3,4,5,6,7\\} \\in \\mathbb{Z}$ but none of them are in $range(f(n))$."
   ]
  },
  {
   "cell_type": "code",
   "execution_count": 33,
   "metadata": {},
   "outputs": [
    {
     "data": {
      "text/plain": [
       "[<matplotlib.lines.Line2D at 0x20683f17cc0>]"
      ]
     },
     "execution_count": 33,
     "metadata": {},
     "output_type": "execute_result"
    },
    {
     "data": {
      "image/png": "[encoded data removed]",
      "text/plain": [
       "<Figure size 432x288 with 1 Axes>"
      ]
     },
     "metadata": {
      "needs_background": "light"
     },
     "output_type": "display_data"
    }
   ],
   "source": [
    "import matplotlib.pyplot as plt\n",
    "\n",
    "f = lambda n : n**3\n",
    "n = range(-10, 10)\n",
    "plt.plot(n, [f(n) for n in n], 'o')"
   ]
  },
  {
   "cell_type": "markdown",
   "metadata": {},
   "source": [
    "**c)** $f(n) = n^2 + 1$\n",
    "\n",
    "The range of $f(n)$ is $ \\{x_i | x_i \\gt 0 \\} $.\\\n",
    "**Injective:** Since every $x_i \\in \\mathbb{Z}$ can be squared, there exists $f(x_i)$ so $f(n)$ is injective.\\\n",
    "**Not surjective:** Some elements of $f(n)$ that do not have a corresponding $n\\in\\mathbb{Z}$. Any negative number can be used as an example here. Consider $f(n) = -2$. If we solve for $n$, we will see that $n \\not\\in \\mathbb{Z}$.\\\n",
    "$f(n) = -2 = n^2 + 1$\\\n",
    "$n^2 = -3$\\\n",
    "$n = \\sqrt{-3}$\\\n",
    "Not only is $n\\in\\mathbb{C}$, the real part of $n\\not\\in\\mathbb{Z}$ since $n\\approx1.732$\\\n",
    "**Not a bijection:** Although $f(n)$ is injective, it is obviously not surjective from the example above."
   ]
  },
  {
   "cell_type": "code",
   "execution_count": 34,
   "metadata": {},
   "outputs": [
    {
     "data": {
      "text/plain": [
       "[<matplotlib.lines.Line2D at 0x20683e814a8>]"
      ]
     },
     "execution_count": 34,
     "metadata": {},
     "output_type": "execute_result"
    },
    {
     "data": {
      "image/png": "[encoded data removed]",
      "text/plain": [
       "<Figure size 432x288 with 1 Axes>"
      ]
     },
     "metadata": {
      "needs_background": "light"
     },
     "output_type": "display_data"
    }
   ],
   "source": [
    "import matplotlib.pyplot as plt\n",
    "\n",
    "f = lambda n : n**2 + 1\n",
    "n = range(-10, 10)\n",
    "plt.plot(n, [f(n) for n in n], 'o')"
   ]
  },
  {
   "cell_type": "markdown",
   "metadata": {},
   "source": [
    "**d)** $f(n) = \\lceil n/2 \\rceil$\n",
    "\n",
    "The range of $f(n)$ is $ \\mathbb{Z} $.\\\n",
    "**Not injective:** Due to the ceiling function being applied in this function, there are always more than 1 $n\\in\\mathbb{Z}$ that correspond to an element in $range(f(n))$. For example, consider $1$ and $2$.\\\n",
    "$\\lceil \\frac{1}{2} \\rceil = \\lceil 0.5 \\rceil = 1$\\\n",
    "$\\lceil \\frac{2}{2} \\rceil = \\lceil 1 \\rceil = 1$\\.\n",
    "Since $f(1) = f(2)$, $f(n)$ cannot be injective.\\\n",
    "**Surjective:** Since the $range(f(n)) = \\mathbb{Z}$, $f(n)$ is surjective. This is because $n\\in\\mathbb{Z}$ which means that we can find a value that maps to $f(n)$ by looking at $2f(n)$ (and since $2f(n)$ is guaranteed to be in $\\mathbb{Z}$, $f(n)$ is surjective).\\\n",
    "**Not a bijection:** Since there are multiple $n\\in\\mathbb{Z}$ that correspond to elements in $range(f(n))$ (aka not injective), $f(n)$ cannot be a bijection (see example from above where $f(1) = f(2)$."
   ]
  },
  {
   "cell_type": "code",
   "execution_count": 35,
   "metadata": {},
   "outputs": [
    {
     "data": {
      "text/plain": [
       "[<matplotlib.lines.Line2D at 0x20683e45048>]"
      ]
     },
     "execution_count": 35,
     "metadata": {},
     "output_type": "execute_result"
    },
    {
     "data": {
      "image/png": "[encoded data removed]",
      "text/plain": [
       "<Figure size 432x288 with 1 Axes>"
      ]
     },
     "metadata": {
      "needs_background": "light"
     },
     "output_type": "display_data"
    }
   ],
   "source": [
    "import math\n",
    "import matplotlib.pyplot as plt\n",
    "\n",
    "f = lambda n : math.ceil(n/2)\n",
    "n = range(-10, 10)\n",
    "plt.plot(n, [f(n) for n in n], 'o')"
   ]
  },
  {
   "cell_type": "markdown",
   "metadata": {},
   "source": [
    "- - -\n",
    "- - -\n",
    "\n",
    "### 6. Composition\n",
    "\n",
    "a) Suppose that $f(x) = x^2 + 1$ and $g(x) = e^x$ are functions from $\\mathbb{R}$ into $\\mathbb{R}$. Find $f \\circ g$ and $g \\circ f$ and plot them in Python (on the same axis to compare).\n",
    "\n",
    "b) Suppose $f(x) = a x + b$ and $g(x) = c x + d$ are functions from $\\mathbb{R}$ into $\\mathbb{R}$. Find constants $a$, $b$, $c$ and $d$ such that $f \\circ g = g \\circ f$. \n",
    "\n",
    "- - -"
   ]
  },
  {
   "cell_type": "markdown",
   "metadata": {},
   "source": [
    "#### **Answers**\n",
    "\n",
    "**a)** Suppose that $f(x) = x^2 + 1$ and $g(x) = e^x$ are functions from $\\mathbb{R}$ into $\\mathbb{R}$. Find $f \\circ g$ and $g \\circ f$ and plot them in Python (on the same axis to compare).\n",
    "\n",
    "$ f \\circ g = f(g(x)) = (e^x)^2 + 1 = e^{2x} + 1 $\\\n",
    "$ g \\circ f = g(f(x)) = e^{x^2 + 1} $"
   ]
  },
  {
   "cell_type": "code",
   "execution_count": 42,
   "metadata": {},
   "outputs": [
    {
     "data": {
      "text/plain": [
       "[<matplotlib.lines.Line2D at 0x20683f5fba8>,\n",
       " <matplotlib.lines.Line2D at 0x20683f5fcf8>]"
      ]
     },
     "execution_count": 42,
     "metadata": {},
     "output_type": "execute_result"
    },
    {
     "data": {
      "image/png": "[encoded data removed]",
      "text/plain": [
       "<Figure size 432x288 with 1 Axes>"
      ]
     },
     "metadata": {
      "needs_background": "light"
     },
     "output_type": "display_data"
    }
   ],
   "source": [
    "import matplotlib.pyplot as plt\n",
    "\n",
    "f = lambda x : x**2 + 1\n",
    "g = lambda x : math.e**x\n",
    "x = [x/100 for x in range(-100, 100)]\n",
    "plt.plot(x, [f(g(i)) for i in x], x, [g(f(i)) for i in x])"
   ]
  },
  {
   "cell_type": "markdown",
   "metadata": {},
   "source": [
    "**b)** Suppose $f(x) = a x + b$ and $g(x) = c x + d$ are functions from $\\mathbb{R}$ into $\\mathbb{R}$. Find constants $a$, $b$, $c$ and $d$ such that $f \\circ g = g \\circ f$.\n",
    "\n",
    "$ f \\circ g = f(g(x)) = a(cx + d) + b = acx + ad + b $\\\n",
    "$ g \\circ f = g(f(x)) = c(ax + b) + d = acx + bc + d $\\\n",
    "$ acx + ad + b = acx + bc + d$\\\n",
    "$ \\Rightarrow ad + b = bc + d $\\\n",
    "From the result above, if $ ad = bc $ and $ b = d $, then $ a $ must be $ c $ and $b$ must be $d$ for $ f \\circ g = g \\circ f $. For example, if $ a = c = 1 $ and $ b = d = 1 $, then $ f \\circ g = 1x + 1 + 1 = x + 2 $ and $ g \\circ f = 1x + 1 + 1 = x + 2 $."
   ]
  },
  {
   "cell_type": "markdown",
   "metadata": {},
   "source": [
    "- - -\n",
    "- - -\n",
    "\n",
    "### 7. Relations\n",
    "\n",
    "Define the relation $R$ on $\\mathbb{N} \\times \\mathbb{N}$ saying that $x \\; R\\; y$ if and only if the binary representations of $x$ and $y$ have the same number of ones. For example, $15 \\; R \\; 23$ since $15$ in binary is $1111$ and $23$ in binary is $10111$, which both have four ones. \n",
    "\n",
    "a) Show that $R$ is an equivalence relation.\n",
    "\n",
    "b) What is the equivalence class $[3]_R$ of the number $3$ (expressed in base 10). Hint: Come up with a general formula for numbers in this class.\n",
    "\n",
    "c) Write simple line of Python code that produces the set of all elements of $[3]_R$ that are less than 100 (expressed in base 10). \n",
    "\n",
    "- - -"
   ]
  },
  {
   "cell_type": "markdown",
   "metadata": {},
   "source": [
    "#### **Answers**\n",
    "\n",
    "**a)** Show that $R$ is an equivalence relation.\n",
    "\n",
    "To show that $R$ is an equivalence relation, we must show that $R$ is reflexive, symmetric, and transitive.\n",
    "\n",
    "$R$ is reflexive because the binary representation of any number will always have the same number of $1$s in that representation.\n",
    "\n",
    "$R$ is symmetric because if we know that $x$ has some number of $1$s and we already know that $y$ also contains that number of $1$, that number cannot change if you have $yRx$ instead of $xRy$.\n",
    "\n",
    "$R$ is transitive because if we already know that $xRy$ is true, then we know that $x$ has n $1$s and $y$ has n $1$s. If we also know that $yRz$ is true, then we know that $y$ has n $1$s and $z$ has n $1$s."
   ]
  },
  {
   "cell_type": "markdown",
   "metadata": {},
   "source": [
    "**b)** What is the equivalence class $[3]_R$ of the number $3$ (expressed in base 10). Hint: Come up with a general formula for numbers in this class.\n",
    "\n",
    "The equivalence class of $[3]_R$ is the set of all numbers such that their binary representation has exactly two $1$s.\n",
    "\n",
    "This equivalnce class can also be represented by the set of numbers such that $ \\sum_{i=0}^{n} 2^i x_i = 2 $ where $x_i \\in \\{0,1\\}$ and $ n \\ge 1 $."
   ]
  },
  {
   "cell_type": "markdown",
   "metadata": {},
   "source": [
    "**c)** Write simple line of Python code that produces the set of all elements of $[3]_R$ that are less than 100 (expressed in base 10). "
   ]
  },
  {
   "cell_type": "code",
   "execution_count": 56,
   "metadata": {},
   "outputs": [
    {
     "data": {
      "text/plain": [
       "[{3: '0b11'},\n",
       " {5: '0b101'},\n",
       " {6: '0b110'},\n",
       " {9: '0b1001'},\n",
       " {10: '0b1010'},\n",
       " {12: '0b1100'},\n",
       " {17: '0b10001'},\n",
       " {18: '0b10010'},\n",
       " {20: '0b10100'},\n",
       " {24: '0b11000'},\n",
       " {33: '0b100001'},\n",
       " {34: '0b100010'},\n",
       " {36: '0b100100'},\n",
       " {40: '0b101000'},\n",
       " {48: '0b110000'},\n",
       " {65: '0b1000001'},\n",
       " {66: '0b1000010'},\n",
       " {68: '0b1000100'},\n",
       " {72: '0b1001000'},\n",
       " {80: '0b1010000'},\n",
       " {96: '0b1100000'}]"
      ]
     },
     "execution_count": 56,
     "metadata": {},
     "output_type": "execute_result"
    }
   ],
   "source": [
    "[{x: bin(x)} for x in range(100) if bin(x).count('1') == 2]"
   ]
  },
  {
   "cell_type": "markdown",
   "metadata": {},
   "source": [
    "- - -\n",
    "- - -\n",
    "\n",
    "### 8. Sets, Functions, and Relations in Python\n",
    "\n",
    "Express each of the following objects in Python.\n",
    "\n",
    "a) The set of $P$ prime numbers less than 100. \n",
    "\n",
    "b) The relation $<$ on the set $\\{1,2,3,4,5,6\\}$, expressed as a set of tuples.\n",
    "\n",
    "c) The function $f: \\{1,2,3,4,5,6\\} \\rightarrow \\{0,1\\}$ in which $f(x) = 0$ if $x$ is even and $f(x)=1$ if $x$ is odd, expressed as a dictionary.\n",
    "\n",
    "d) The Cartesian product $\\{0,1\\}^4$ as a set of tuples. \n",
    "\n",
    "- - -"
   ]
  },
  {
   "cell_type": "markdown",
   "metadata": {},
   "source": [
    "#### **TODO: Answers**\n",
    "\n",
    "**a)** The set of $P$ prime numbers less than 100."
   ]
  },
  {
   "cell_type": "code",
   "execution_count": 75,
   "metadata": {},
   "outputs": [
    {
     "data": {
      "text/plain": [
       "[1,\n",
       " 2,\n",
       " 3,\n",
       " 5,\n",
       " 7,\n",
       " 11,\n",
       " 13,\n",
       " 17,\n",
       " 19,\n",
       " 23,\n",
       " 29,\n",
       " 31,\n",
       " 37,\n",
       " 41,\n",
       " 43,\n",
       " 47,\n",
       " 53,\n",
       " 59,\n",
       " 61,\n",
       " 67,\n",
       " 71,\n",
       " 73,\n",
       " 79,\n",
       " 83,\n",
       " 89,\n",
       " 97]"
      ]
     },
     "execution_count": 75,
     "metadata": {},
     "output_type": "execute_result"
    }
   ],
   "source": [
    "P = [x for x in range(1,100) if not any(x%y == 0 for y in range(2,x-1))]\n",
    "P"
   ]
  },
  {
   "cell_type": "markdown",
   "metadata": {},
   "source": [
    "**b)** The relation $<$ on the set $\\{1,2,3,4,5,6\\}$, expressed as a set of tuples."
   ]
  },
  {
   "cell_type": "code",
   "execution_count": 78,
   "metadata": {},
   "outputs": [
    {
     "data": {
      "text/plain": [
       "[(1, 3),\n",
       " (5, 6),\n",
       " (1, 6),\n",
       " (2, 5),\n",
       " (1, 2),\n",
       " (1, 5),\n",
       " (3, 6),\n",
       " (2, 6),\n",
       " (4, 5),\n",
       " (1, 4),\n",
       " (2, 3),\n",
       " (3, 5),\n",
       " (4, 6),\n",
       " (3, 4),\n",
       " (2, 4)]"
      ]
     },
     "execution_count": 78,
     "metadata": {},
     "output_type": "execute_result"
    }
   ],
   "source": [
    "def cartesian_product(X,Y):\n",
    "    return {(x,y) for x in X for y in Y}\n",
    "\n",
    "S = {1,2,3,4,5,6}\n",
    "S2 = [x for x in cartesian_product(S,S) if x[0] < x[1]]\n",
    "S2"
   ]
  },
  {
   "cell_type": "markdown",
   "metadata": {},
   "source": [
    "**c)** The function $f: \\{1,2,3,4,5,6\\} \\rightarrow \\{0,1\\}$ in which $f(x) = 0$ if $x$ is even and $f(x)=1$ if $x$ is odd, expressed as a dictionary."
   ]
  },
  {
   "cell_type": "code",
   "execution_count": 88,
   "metadata": {},
   "outputs": [
    {
     "data": {
      "text/plain": [
       "{1: 1, 2: 0, 3: 1, 4: 0, 5: 1, 6: 0}"
      ]
     },
     "execution_count": 88,
     "metadata": {},
     "output_type": "execute_result"
    }
   ],
   "source": [
    "{ x: (0 if x % 2 == 0 else 1) for x in {1,2,3,4,5,6} }"
   ]
  },
  {
   "cell_type": "markdown",
   "metadata": {},
   "source": [
    "**d)** The Cartesian product $\\{0,1\\}^4$ as a set of tuples. "
   ]
  },
  {
   "cell_type": "code",
   "execution_count": null,
   "metadata": {},
   "outputs": [],
   "source": [
    "def n_fold_cartesian_product(X_list, Y_list, depth=-1):\n",
    "    res = []\n",
    "    nxt = []\n",
    "    for X in X_list:\n",
    "        for Y in Y_list:\n",
    "            if len(res):\n",
    "                for r in res:\n",
    "                    x_0 = tuple(X) + tuple(r)\n",
    "                    nxt.append(x_0)\n",
    "            else:\n",
    "                res.append(cartesian_product(X, Y))\n",
    "        res = nxt\n",
    "            #c = cartesian_product(X,Y)\n",
    "            #res = res.union(c)\n",
    "            #print('%s: %s' % (X, Y))\n",
    "#     f = []\n",
    "#     for X in X_list:\n",
    "#         for Y in Y_list:\n",
    "#             for r in res:\n",
    "#                 for r_0 in r:\n",
    "#                     x_0 = tuple(X) + tuple(r_0)\n",
    "#                     #print('x_0: %s' % str(x_0))\n",
    "#                     y_0 = tuple(Y) + tuple(r_0)\n",
    "#                     #print('y_0: %s' % str(y_0))\n",
    "#                     f.append(x_0)\n",
    "#                     #f.append(y_0)\n",
    "#     f.sort()\n",
    "    return res\n",
    "\n",
    "C = {0,1}\n",
    "S = n_fold_cartesian_product([C]*4, [C]*4)\n",
    "from pprint import pprint\n",
    "pprint(S)"
   ]
  },
  {
   "cell_type": "markdown",
   "metadata": {
    "ExecuteTime": {
     "end_time": "2019-10-01T17:52:09.486952Z",
     "start_time": "2019-10-01T17:52:09.482366Z"
    }
   },
   "source": [
    "- - -\n",
    "- - -\n",
    "\n",
    "### 9. The Cantor Set\n",
    "\n",
    "Define $C_0$ to be the closed interval $[0,1]$.\n",
    "\n",
    "Define $C_1$ to be the result of removing the middle third of $C_0$. So \n",
    "\n",
    "$$\n",
    "C_1 = [0,\\frac{1}{3}] \\cup [\\frac{1}{3},1].\n",
    "$$\n",
    "\n",
    "Define $C_2$ to be the result of removing the middle thirds of the two intervals in $C_2$. So\n",
    "\n",
    "$$\n",
    "C_2 = [0,\\frac{1}{9}] \\cup [\\frac{2}{9},\\frac{1}{3}] \\cup [\\frac{2}{3},\\frac{7}{9}] \\cup [\\frac{8}{9},1] .\n",
    "$$\n",
    "\n",
    "In general, $C_{n+1}$ is obtained by remove the middle thirds of the intervals in $C_n$. \n",
    "\n",
    "Write a Python function that takes a number $n$ and returns the set $C_n$. Use Python tuples to represent intervals, Python sets to represent sets of intervals, and sympy to represent the fractions. For example, you would have\n",
    "\n",
    "```python\n",
    "import sympy as sm\n",
    "\n",
    "C_0 = { (sm.Integer(0),sm.Integer(1)) }\n",
    "C_1 = { (sm.Integer(0),sm.Rational(1,3)), (sm.Rational(2,3),sm.Integer(1)) }\n",
    "```\n",
    "\n",
    "Demonstrate your function for a few different values of $n$. \n",
    "\n",
    "**Not graded**: Define the Cantor Set $C$ to be the limit of the series $C_0, C_1, \\dots$ as $n \\rightarrow \\infty$. Show $\\frac{1}{4} \\in C$.\n",
    "\n",
    "- - -"
   ]
  },
  {
   "cell_type": "markdown",
   "metadata": {
    "ExecuteTime": {
     "end_time": "2019-10-01T17:52:09.486952Z",
     "start_time": "2019-10-01T17:52:09.482366Z"
    }
   },
   "source": [
    "#### **TODO: Answer**"
   ]
  },
  {
   "cell_type": "markdown",
   "metadata": {},
   "source": [
    "- - -\n",
    "- - -\n",
    "\n",
    "### 10 Cardinality\n",
    "\n",
    "a) A polynomial with integer coefficients is a an expression like $2 x^3 + 3 x^2 - 4 x + 8$. Show that the set of all polynomials with integer coefficients is countable. \n",
    "\n",
    "b) A number is called *algebraic* if it is the root of some polynomial with integer coefficients. For example, $\\sqrt 2$ is algebraic because it is a root of the polynomial $x^2 - 2$. Use (a) to show that the set of algebraic numbers is countable. \n",
    "\n",
    "c) A number is called **transcendental** if it is neither rational nor algebraic. Using (b) and facts discussed in class, explain why the set of transcendental numbers in $\\mathbb{R}$ is uncountable. \n",
    "\n",
    "- - -"
   ]
  },
  {
   "cell_type": "markdown",
   "metadata": {},
   "source": [
    "#### **TODO: Answers**\n"
   ]
  },
  {
   "cell_type": "code",
   "execution_count": null,
   "metadata": {
    "collapsed": true,
    "jupyter": {
     "outputs_hidden": true
    }
   },
   "outputs": [],
   "source": []
  }
 ],
 "metadata": {
  "kernelspec": {
   "display_name": "Python 3",
   "language": "python",
   "name": "python3"
  },
  "language_info": {
   "codemirror_mode": {
    "name": "ipython",
    "version": 3
   },
   "file_extension": ".py",
   "mimetype": "text/x-python",
   "name": "python",
   "nbconvert_exporter": "python",
   "pygments_lexer": "ipython3",
   "version": "3.7.3"
  }
 },
 "nbformat": 4,
 "nbformat_minor": 4
}
