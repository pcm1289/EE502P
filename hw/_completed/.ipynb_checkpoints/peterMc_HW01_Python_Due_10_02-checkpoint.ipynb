{
 "cells": [
  {
   "cell_type": "markdown",
   "metadata": {
    "ExecuteTime": {
     "end_time": "2019-09-24T16:05:23.746666Z",
     "start_time": "2019-09-24T16:05:23.741461Z"
    }
   },
   "source": [
    "EE 502 P: Analytical Methods for Electrical Engineering\n",
    "    \n",
    "# Homework 1: Python\n",
    "## Due 2 October, 2019 at 6:00 PM\n",
    "### **<span style=\"color: green\">Peter McEldowney</span>**\n",
    "\n",
    "Copyright &copy; 2019, University of Washington\n",
    "\n",
    "<hr>\n",
    "\n",
    "**Instructions**: Use this notebook as a template. Answer all questions using well formatted Markdown with embedded LaTeX equations, executable Jupyter cells, or both. Submit your homework solutions as an `.ipynb` file via Canvas.\n",
    "\n",
    "<span style=\"background: yellow; padding: 6px; border: 1pt solid black\">\n",
    "Although you may discuss the homework with others, you must turn in your own, original work.\n",
    "</span>\n",
    "\n",
    "**Things to remember:**\n",
    "- Use complete sentences. Equations should appear in text as grammatical elements.\n",
    "- Comment your code.\n",
    "- Label your axes. Title your plots. Use legends where appropriate. \n",
    "- Before submitting a notebook, choose Kernel -> Restart and Run All to make sure your notebook runs when the cells are evaluated in order. \n",
    "\n",
    "Note : Late homework will be accepted up to one week after the due date and will be worth 50% of its full credit score. "
   ]
  },
  {
   "cell_type": "markdown",
   "metadata": {},
   "source": [
    "### 0. Warmup (Do not turn in)\n",
    "\n",
    "- Get Jupyter running on your computer, or learn to use Google Colab's Jupyter environment.\n",
    "- Make sure you can click through the Lecture 1 notes on Python. Try change some of the cells to see the effects. \n",
    "- If you haven't done any Python, follow one of the links in Lecture 1 to a tutorial and work through it.\n",
    "- If you haven't done any Numpy or Sympy, read through the linked documentation and tutorials for those too."
   ]
  },
  {
   "cell_type": "markdown",
   "metadata": {},
   "source": [
    "- - -\n",
    "- - -\n",
    "\n",
    "### **1.** Whitespace\n",
    "Write two short Python fragments that are syntactically correct, have exactly the same non-whitespace characters **in the same order**, do not use random number generators, but produce (e.g. print) different results.\n",
    "\n",
    "- - -\n",
    "#### **Answer**"
   ]
  },
  {
   "cell_type": "code",
   "execution_count": 1,
   "metadata": {},
   "outputs": [
    {
     "name": "stdout",
     "output_type": "stream",
     "text": [
      "2.5\n",
      "2\n"
     ]
    }
   ],
   "source": [
    "print(5/2)\n",
    "print(5//2)"
   ]
  },
  {
   "cell_type": "markdown",
   "metadata": {},
   "source": [
    "- - -\n",
    "- - -\n",
    "\n",
    "### **2.** Complex Numbers\n",
    "Write a function `rand_complex(n)` that returns a list of `n` random complex numbers uniformly distributed in the unit circle (i.e. the magnitudes of the numbers are all between 0 and 1). Give the function a docstring. Demonstrate the function by making a list of 25 complex numbers. \n",
    "\n",
    "- - -\n",
    "#### **Answer**"
   ]
  },
  {
   "cell_type": "code",
   "execution_count": 12,
   "metadata": {},
   "outputs": [
    {
     "data": {
      "text/plain": [
       "[(0.5187107342608361-0.22737459105388202j),\n",
       " (-0.588398058130239-0.044545551229288716j),\n",
       " (-0.6654591878503904-0.4055012251678094j),\n",
       " (0.48468979419368563-0.3473776634584591j),\n",
       " (-0.39588367842887573+0.17512450935080093j),\n",
       " (0.7995118871450488+0.361419362522307j),\n",
       " (0.41385868252722813-0.5655110070356459j),\n",
       " (0.7106401041430439-0.5241233832642194j),\n",
       " (-0.817882685456836+0.4035456356982632j),\n",
       " (0.1702899476278461-0.12968038894079092j),\n",
       " (0.7336192949989324+0.4159100216506897j),\n",
       " (0.07237805418462262+0.3089751509108345j),\n",
       " (0.38396838859801585+0.5650545825836943j),\n",
       " (0.09268637736165974+0.9855748954327193j),\n",
       " (0.4454700813387238-0.6085417111914977j),\n",
       " (-0.0015922479381789145-0.06366776560174636j),\n",
       " (0.5552296552599192-0.33527963027388163j),\n",
       " (-0.754195075910824+0.24760072100996644j),\n",
       " (0.21526176619048165+0.47133464664105085j),\n",
       " (-0.50004880465391-0.13614749338234922j),\n",
       " (0.3963068352719574-0.6122313290366181j),\n",
       " (-0.9255947055775895-0.1540201990438641j),\n",
       " (-0.0660982008787252-0.9592282483734413j),\n",
       " (-0.5781821987025+0.6943998365333122j),\n",
       " (0.2461913792336612-0.20233925493416383j)]"
      ]
     },
     "execution_count": 12,
     "metadata": {},
     "output_type": "execute_result"
    },
    {
     "data": {
      "image/png": "[encoded data removed]",
      "text/plain": [
       "<Figure size 432x288 with 3 Axes>"
      ]
     },
     "metadata": {
      "needs_background": "light"
     },
     "output_type": "display_data"
    }
   ],
   "source": [
    "import matplotlib.pyplot as plt\n",
    "import numpy\n",
    "from numpy import array, abs\n",
    "import math\n",
    "\n",
    "\n",
    "def rand_complex(n: int, epsilon: float = 1e-9) -> list:\n",
    "    \"\"\"\n",
    "    Returns a list of n random complex numbers that are uniformly distributed\n",
    "        across the unit circle (ie. all their magnitudes are <= 1.0 + epsilon)\n",
    "\n",
    "    :float epsilon: the acceptable amount of error\n",
    "    :return list: of uniformly distributed numbers\n",
    "    \"\"\"\n",
    "    # get lists of n random numbers with a uniform distribution \n",
    "    #  for real and complex parts of the number\n",
    "    numbers = []\n",
    "    while len(numbers) < n:\n",
    "        real_parts = numpy.random.uniform(-1.0, 1.0, size=n - len(numbers))\n",
    "        complex_parts = numpy.random.uniform(-1.0, 1.0, size=n - len(numbers))\n",
    "        nums = array(real_parts) + 1j*array(complex_parts)\n",
    "        # since the real and complex parts generated above are in the unit square\n",
    "        #  but we only elements in the unit circle, we filter anything\n",
    "        #  with a magnitude > 1.0 + epsilon out of our list and iterate\n",
    "        numbers += [x for x in nums if abs(x) <= 1.0 + epsilon]\n",
    "\n",
    "    return numbers\n",
    "\n",
    "\n",
    "def test_it(runs=1000, elements_per_run=1000, epsilon=1e-7):\n",
    "    \"\"\" This function calls rand_complex runs times. It verifies that each\n",
    "    element returned by rand_complex is within epsilon of a magnitude of 1.0.\n",
    "    Each time rand_complex is called, a histogram is used to check how many\n",
    "    elements fall into each cross section of the circle. See the comment below\n",
    "    the plt.bar line for a complete explanation of why these results make sense.\n",
    "    \"\"\"\n",
    "    \n",
    "    # these variables are for a histogram of all runs\n",
    "    bin_edges, y_hist = None, None\n",
    "\n",
    "    # iterate while validating each run\n",
    "    for trial in range(runs):\n",
    "        nums = rand_complex(elements_per_run)\n",
    "        #print('run_%03d: min(%s), max(%s)' % (trial, min(nums), max(nums)))\n",
    "        \n",
    "        # check the magnitude\n",
    "        magnitudes = [abs(x) for x in nums]\n",
    "        assert all(m >= 0.0 and m <= 1.0 + epsilon for m in magnitudes), \\\n",
    "            'not properly normalized, found %d elements with a magnitude > 1.0' \\\n",
    "            % (len([x for x in magnitudes if x > 1.0+epsilon]))\n",
    "        #print('%d\\n=========\\n%s' % (trial, '\\n'.join(['|x_%d| = %.02f, x_%d = %s' % (i, abs(nums[i]), i, str(nums[i])) for i in range(len(nums))])))\n",
    "        \n",
    "        # aggregate histogram results from all runs\n",
    "        values, edges = numpy.histogram(magnitudes, bins=10, range=(0,1.0))\n",
    "        if bin_edges is None:\n",
    "            bin_edges = edges\n",
    "            y_hist = values\n",
    "        else:\n",
    "            #assert all(edges[i] == bin_edges[i] for i in range(len(bin_edges)))  # sanity check\n",
    "            y_hist += values\n",
    "            \n",
    "    # plot the last result on the unit circle (sanity check)\n",
    "    plt.subplots(1,3)\n",
    "    t = numpy.linspace(0,2*math.pi,101)\n",
    "    plt.subplot(1,3,1)\n",
    "    plt.plot(numpy.cos(t),numpy.sin(t))\n",
    "    plt.plot([x.real for x in nums], [x.imag for x in nums], 'ro')\n",
    "\n",
    "    # plot the aggregate histogram from all runs\n",
    "    plt.subplot(1,3,2)\n",
    "    # the [:-1] for x_hist is because numpy.histogram inclusively returns the edges of\n",
    "    #  each bin. Since we know that the magnitude of each complex number is <= 1.0,\n",
    "    #  we do not want to graphically display any elements in the last bin.\n",
    "    plt.bar(bin_edges[:-1], height=y_hist, width=0.1, align='edge')\n",
    "    \n",
    "    # Explanaton of expected bar graph results:\n",
    "    #\n",
    "    # the expectation with this bar graph is that as the number of runs (or number\n",
    "    #  of random elements increases), it will become more linear. This is because\n",
    "    #  we are looking at the probability that you are within 2 circles of radius\n",
    "    #  r_i and r_i+1 from the center where the distance between r_i and r_i+1 is\n",
    "    #  determined by the number of bins in the histogram. \n",
    "    #\n",
    "    # For example, with 10 bins, r_i and r_i+1 are 0.1 apart from each other. This \n",
    "    #  means that each bin is actually representing the area of a cross section\n",
    "    #  of the circle. Below shows those areas and the percentage of total area\n",
    "    #  that represents..\n",
    "    #  inner_r - outer_r: area: % of total area\n",
    "    #  0.0 - 0.1: 0.0314: 1%\n",
    "    #  0.1 - 0.2: 0.0942: 3%\n",
    "    #  0.2 - 0.3: 0.1571: 5%\n",
    "    #  0.3 - 0.4: 0.2199: 7%\n",
    "    #  0.4 - 0.5: 0.2827: 9%\n",
    "    #  0.5 - 0.6: 0.3456: 11%\n",
    "    #  0.6 - 0.7: 0.4084: 13%\n",
    "    #  0.7 - 0.8: 0.4712: 15%\n",
    "    #  0.8 - 0.9: 0.5341: 17%\n",
    "    #  0.9 - 1.0: 0.5969: 19%\n",
    "    #\n",
    "    # The % of total area of the circle is the probability that a point will\n",
    "    #  land in that region. Since that increases linearly, I expect the histogram\n",
    "    #  exhibit the behavior described above.\n",
    "    \n",
    "    # plot histogram values as percentage of total elements instead of number of elements\n",
    "    plt.subplot(1,3,3)\n",
    "    num_elem = runs*elements_per_run\n",
    "    plt.bar(bin_edges[:-1], height=[(y/num_elem)*100 for y in y_hist], width=0.1, align='edge')\n",
    "    \n",
    "\n",
    "def get_section_area(r_0, r_1):\n",
    "   a_1 = math.pi*r_1**2\n",
    "   a_0 = math.pi*r_0**2\n",
    "   return a_1 - a_0\n",
    "\n",
    "def print_section_sizes(num_sections=10):\n",
    "    sections = [x/num_sections for x in range(num_sections+1)]\n",
    "    # total_area should be approximately math.pi since it's the unit circle\n",
    "    total_area = 0\n",
    "    epsilon = 1e-6\n",
    "    for i in range(len(sections)-1):\n",
    "        r_0 = sections[i]\n",
    "        r_1 = sections[i+1]\n",
    "        area = get_section_area(r_0, r_1)\n",
    "        print('    #  %.1f - %.1f: %.4f: %.0f%%' % (r_0, r_1, area, 100*(area/math.pi)))\n",
    "        total_area += area\n",
    "    assert total_area < math.pi + epsilon and total_area > math.pi - epsilon, \\\n",
    "        \"total area calculation wrong for cross sections...? or too tight of epsilon..\"\n",
    "\n",
    "#?numpy.histogram\n",
    "#print_section_sizes()\n",
    "kwargs = {\n",
    "    'runs': 10,\n",
    "    'elements_per_run': 500,\n",
    "}\n",
    "test_it(**kwargs)\n",
    "rand_complex(25)\n"
   ]
  },
  {
   "cell_type": "markdown",
   "metadata": {},
   "source": [
    "- - -\n",
    "- - -\n",
    "\n",
    "### **3.** Hashes\n",
    "Write a function `to_hash(L) `that takes a list of complex numbers `L` and returns an array of hashes of equal length, where each hash is of the form `{ \"re\": a, \"im\": b }`. Give the function a docstring and test it by converting a list of 25 numbers generated by your `rand_complex` function. \n",
    "\n",
    "- - -\n",
    "#### **Answer**"
   ]
  },
  {
   "cell_type": "code",
   "execution_count": 3,
   "metadata": {},
   "outputs": [
    {
     "name": "stdout",
     "output_type": "stream",
     "text": [
      "[{'im': -195404444569433088, 're': -2101381702911643648},\n",
      " {'im': 72981379985309184, 're': -2107651705587951616},\n",
      " {'im': 1935470123768865792, 're': 966216736035992064},\n",
      " {'im': 1646343283537340928, 're': 763523984653144064},\n",
      " {'im': 53899871355369984, 're': 918325061152857600},\n",
      " {'im': -55789103080030720, 're': 1717396175583523328},\n",
      " {'im': -1647330739603942400, 're': 1579938156105966592},\n",
      " {'im': 1625667413869455872, 're': 686069731283109888},\n",
      " {'im': -799052198893224960, 're': 397862361701587968},\n",
      " {'im': -862384370177605632, 're': -714481296365131776},\n",
      " {'im': -1943441656781063168, 're': -1049072819659836928},\n",
      " {'im': -91046799114044928, 're': -1137946394713880064},\n",
      " {'im': -451268157940295680, 're': -1689424427002356736},\n",
      " {'im': 1527421470486125568, 're': 979168647781394944},\n",
      " {'im': 1370769338345215488, 're': -1595144882768713216},\n",
      " {'im': 2088687474641947648, 're': 950262612472001536},\n",
      " {'im': 621578539555776000, 're': 1375924743450780160},\n",
      " {'im': 1202858348834309120, 're': 1470441922197251584},\n",
      " {'im': 2121936701272621056, 're': 304017470064576512},\n",
      " {'im': -558111630792310272, 're': 2093280195968567296},\n",
      " {'im': -1174714403630553088, 're': -1760509955138083840},\n",
      " {'im': 1955434112090079232, 're': -1014715998673650176},\n",
      " {'im': -1616292683970943488, 're': -1085172907600657920},\n",
      " {'im': 18672296884536832, 're': 1649129176440686080},\n",
      " {'im': 1037496295635165696, 're': 1806338343591366144}]\n"
     ]
    }
   ],
   "source": [
    "def to_hash(L: list) -> list:\n",
    "    \"\"\" Takes the input list of complex numbers and computes a hash of the\n",
    "    real and complex components. It then returns a list of dictionaries for\n",
    "    each element in the original list with those hashes.\n",
    "    \n",
    "    :list L: a list of complex numbers\n",
    "    :return list: this list is a list of dictionary where the index of\n",
    "        the output list represents the element at the index of L. Each\n",
    "        output list dictionary has 2 keys, 're' and 'im' for the hash \n",
    "        of the real and imaginary components of each number.\n",
    "    \"\"\"\n",
    "    output = []\n",
    "    for item in L:\n",
    "        output.append({'re': hash(item.real), 'im': hash(item.imag)})\n",
    "    return output\n",
    "\n",
    "nums = rand_complex(25)\n",
    "from pprint import pprint\n",
    "pprint(to_hash(nums))\n",
    "\n",
    "# to see that they are the same size, run this function\n",
    "def pprint_as_hex(nums):\n",
    "    hashed_nums = to_hash(nums)\n",
    "    for i in range(len(nums)):\n",
    "        print('%s re: 0x%x, im: 0x%x' % (str(nums[i]), hashed_nums[i]['re'], hashed_nums[i]['im']))\n",
    "        \n",
    "#pprint_as_hex(nums)"
   ]
  },
  {
   "cell_type": "markdown",
   "metadata": {},
   "source": [
    "- - -\n",
    "- - -\n",
    "\n",
    "### **4.** Matrices\n",
    "\n",
    "Write a function `upper_traingular(n)` that returns an $n \\times n$ numpy matrix with zeros on the lower diagonal, and ones on the diagonal and upper diagonal. For example, `upper_triangular(3)` would return\n",
    "\n",
    "```python\n",
    "array([[1, 1, 1],\n",
    "       [0, 1, 1],\n",
    "       [0, 0, 1]])\n",
    "```\n",
    "\n",
    "- - -\n",
    "#### **Answer**"
   ]
  },
  {
   "cell_type": "code",
   "execution_count": 4,
   "metadata": {},
   "outputs": [
    {
     "data": {
      "text/plain": [
       "array([[1., 1., 1.],\n",
       "       [0., 1., 1.],\n",
       "       [0., 0., 1.]])"
      ]
     },
     "execution_count": 4,
     "metadata": {},
     "output_type": "execute_result"
    }
   ],
   "source": [
    "import numpy\n",
    "from numpy import array\n",
    "\n",
    "def upper_triangular(n: int) -> array:\n",
    "    ret = numpy.zeros((n, n))\n",
    "    for i in range(n):\n",
    "        ret[i, i:n] = 1\n",
    "\n",
    "    return ret\n",
    "\n",
    "\n",
    "#upper_triangular(2)\n",
    "upper_triangular(3)\n",
    "#upper_triangular(4)\n",
    "#upper_triangular(5)\n",
    "#upper_triangular(6)"
   ]
  },
  {
   "cell_type": "markdown",
   "metadata": {},
   "source": [
    "- - -\n",
    "- - -\n",
    "\n",
    "### **5.** Numpy\n",
    "\n",
    "Write a function `convolve(M,K)` that takes an $n \\times m$ matrix $M$ and a $3 \\times 3$ matrix $K$ (called the kernel) and returns their convolution as in the following diagram:\n",
    "\n",
    "<img src=\"http://machinelearninguru.com/_images/topics/computer_vision/basics/convolution/5.JPG\" width=500>\n",
    "\n",
    "Do not use any predefined convolution functions from numpy or scipy. Write your own. If the matrix $M$ is too small, your function should return a exception.\n",
    "\n",
    "The matrix returned will have two fewer rows and two fewer columns than $M$. Test your function by making a $100 \\times 100$ matrix of zeros and ones that as an image look like the letter X and convolve it with the kernel\n",
    "\n",
    "$$\n",
    "K = \\frac{1}{16} \\begin{pmatrix}\n",
    "1 & 2 & 1 \\\\\n",
    "2 & 4 & 2 \\\\\n",
    "1 & 2 & 1\n",
    "\\end{pmatrix}\n",
    "$$\n",
    "\n",
    "Use `imshow` to display both images using subplots. \n",
    "\n",
    "- - -\n",
    "#### **Answer**"
   ]
  },
  {
   "cell_type": "code",
   "execution_count": 5,
   "metadata": {},
   "outputs": [
    {
     "name": "stdout",
     "output_type": "stream",
     "text": [
      "my convolve() took 0:00:00.052888\n"
     ]
    },
    {
     "data": {
      "image/png": "[encoded data removed]",
      "text/plain": [
       "<Figure size 432x288 with 2 Axes>"
      ]
     },
     "metadata": {
      "needs_background": "light"
     },
     "output_type": "display_data"
    }
   ],
   "source": [
    "import datetime  # for curiosity (mainly because I implemented it in parallel first but removed that for readability)\n",
    "import matplotlib.pyplot as plt\n",
    "import numpy\n",
    "\n",
    "class InvalidKernelSize(Exception):\n",
    "    pass\n",
    "\n",
    "class InvalidOperation(Exception):\n",
    "    pass\n",
    "\n",
    "def convolve(M, K):\n",
    "    \"\"\"\n",
    "    This function convolves a MxN matrix with a 3x3 kernel K\n",
    "        The resulting matrix is (M-2)x(N-2)\n",
    "    \"\"\"\n",
    "    # input validation\n",
    "    K = numpy.array(K)\n",
    "    if K.shape != (3,3):\n",
    "        raise InvalidKernelSize(\"matrix is not 3x3: size=%d, shape=%s\" % (K.size, str(K.shape)))\n",
    "\n",
    "    M = numpy.array(M)\n",
    "    if M is None or len(M.shape) != 2 or \\\n",
    "        M.shape[0] < K.shape[0] or M.shape[1] < K.shape[1]:\n",
    "            print('M.shape = %s -- K.shape = %s' % (M.shape, K.shape))\n",
    "            raise InvalidOperation('matrix is too small for operation you goofball')\n",
    "\n",
    "    # f: R^(3x3) -> R\n",
    "    def calculate_element(m, K):\n",
    "        \"\"\" This function performs the product of each individual elements\n",
    "        of the array and returns the sum of them.\n",
    "        \"\"\"\n",
    "        assert m.shape == K.shape, 'invalid size, cannot calculate element: m.shape=%s, K.shape=%s' % (str(m.shape), str(K.shape))\n",
    "        final = 0\n",
    "        for i in range(len(m)):\n",
    "            for j in range(len(m[i])):\n",
    "                final += m[j,i]*K[i,j]\n",
    "        return final\n",
    "\n",
    "    # iterate through and calculate each new element\n",
    "    resulting_array = numpy.zeros((M.shape[0]-2, M.shape[1]-2))\n",
    "    for i in range(len(M)-2):\n",
    "        for j in range(len(M[i])-2):\n",
    "            resulting_array[i,j] = calculate_element(m=M[i:i+3,j:j+3], K=K)\n",
    "\n",
    "    return resulting_array\n",
    "\n",
    "\n",
    "def get_x(n, w=1):\n",
    "    \"\"\"\n",
    "    Gets an NxN array of mostly 0s with 1s in the shape of an X\n",
    "        across the diagonals (width of w). \n",
    "        \n",
    "    This X is not completely centered.\n",
    "        The orientation is such that in the first row, we start drawing the X \n",
    "        from the edges. This leads to the center being shifted up by w/2 \n",
    "        (ie. if you inscribe a square in the center of the x (that touches all\n",
    "        4 edges of the center), the bottom of that square would be at the \n",
    "        center of the image)\n",
    "    \"\"\"\n",
    "    ret = numpy.zeros((n,n))\n",
    "    for i in range(n):\n",
    "        ret[i, i:i+w] = 1\n",
    "\n",
    "        # handle edge case in upper right corner\n",
    "        if i == 0:\n",
    "            ret[i,-1] = 1\n",
    "            offset = 1\n",
    "        else:\n",
    "            offset = 0\n",
    "\n",
    "        start = -(i+w)\n",
    "        stop = -(i+offset)\n",
    "        ret[i, start:stop] = 1\n",
    "\n",
    "    return ret\n",
    "\n",
    "# The following code does the requested subplots.\n",
    "#  It also has the ability to compare my results to the\n",
    "#  scipy convolution f(x) as a sanity check.\n",
    "compare_to_scipy = False\n",
    "if compare_to_scipy:\n",
    "    subplot_dims = (2,2)\n",
    "else:\n",
    "    subplot_dims = (1,2)\n",
    "\n",
    "# generate teh X\n",
    "x = get_x(100, w=5)\n",
    "K = (1/16)*numpy.array([\n",
    "    [1, 2, 1],\n",
    "    [2, 4, 2],\n",
    "    [1, 2, 1],\n",
    "])\n",
    "\n",
    "# plot the x\n",
    "plt.subplots(*subplot_dims)\n",
    "plt.subplot(*subplot_dims,1)\n",
    "plt.imshow(x)\n",
    "\n",
    "# plot the results of my convolution f(x) (times it too)\n",
    "plt.subplot(*subplot_dims,2)\n",
    "start = datetime.datetime.now()\n",
    "conv_x = convolve(x, K=K)\n",
    "print('my convolve() took %s' % (datetime.datetime.now() - start))\n",
    "plt.imshow(conv_x)\n",
    "\n",
    "if compare_to_scipy:\n",
    "    # uncomment for sanity check\n",
    "    plt.subplot(*subplot_dims,3)\n",
    "    plt.imshow(x)\n",
    "\n",
    "    import scipy, scipy.ndimage\n",
    "    plt.subplot(*subplot_dims,4)\n",
    "    start = datetime.datetime.now()\n",
    "    c = scipy.ndimage.filters.convolve(x, K)\n",
    "    print('scipy.ndimage.filters.convolve took %s' % (datetime.datetime.now() - start))\n",
    "    plt.imshow(c)\n",
    "\n",
    "    if c.shape != conv_x.shape:\n",
    "        print('shape is different: s(%s) mine(%s)' % (c.shape, conv_x.shape))\n",
    "\n",
    "    # quick count of number of different points in my convolution vs. scipy\n",
    "    fails = []\n",
    "    for i in range(1, len(c)-1):\n",
    "        for j in range(1, len(c[i])-1):\n",
    "            #print('i=%d j=%d' % (i,j))\n",
    "            if c[i,j] != conv_x[i-1,j-1]:\n",
    "                fails.append((i,j))\n",
    "    print('%d failed points out of %d' % (len(fails), (len(c)-2)*(len(c[0])-2)))\n",
    "\n",
    "# # sample from prompt\n",
    "# test_vector = array([\n",
    "#     [0, 0, 0, 0, 0, 0],\n",
    "#     [0, 105, 102, 100, 97, 96],\n",
    "#     [0, 103, 99, 103, 101, 102],\n",
    "#     [0, 101, 98, 104, 102, 100],\n",
    "#     [0, 99, 101, 106, 104, 99],\n",
    "#     [0, 104, 104, 104, 100, 98],\n",
    "# ])\n",
    "# test_K = array([\n",
    "#     [0, -1, 0],\n",
    "#     [-1, 5, -1],\n",
    "#     [0, -1, 0],\n",
    "# ])\n",
    "# res = convolve(test_vector, test_K)\n",
    "# res2 = scipy.ndimage.filters.convolve(test_vector, test_K)\n",
    "# pprint(res)\n",
    "# pprint(res2)\n"
   ]
  },
  {
   "cell_type": "markdown",
   "metadata": {},
   "source": [
    "- - -\n",
    "- - -\n",
    "\n",
    "### **6.** Visualization\n",
    "\n",
    "Write a function `show_pascal(n)` that returns a plot of Pascal's triangle in the following form. It should work for any number of of rows $n$ and must show the hexagons. Use a keyword argument that defaults to `True` for whether to show the numbers. Make sure the numbers are centered in the hexagons. Details like the bottom row of partial hexagons and the ellipsis are optional. Feel free to use colors and more styling. For example, if you color the hexagons black for even numbers and white for odd numbers, it will look like a Serpinski Gasket! Demonstrate the function with $n=10$ showing the numbers and for $n=50$ without the numbers. \n",
    "\n",
    "<img src=\"https://cdn.mos.cms.futurecdn.net/LH5vimYVrei3iDU2sgDM2G-650-80.jpg\" width=250px>\n",
    "\n",
    "For $n=50$ you may want to not render the edges so that the edges do not take up the whole image.\n",
    "\n",
    "Note: A previous version of this problem required you to render $n=500$. That will be quite slow to impossible unless you use more advanced methods. If you would like to get to larger numbers of polygons it is possible. Use a PolyCollection, as in [this post](https://stackoverflow.com/questions/37573314/matplotlib-efficient-way-to-create-large-number-of-patch-objects).\n",
    "\n",
    "- - -\n",
    "#### **Answer**"
   ]
  },
  {
   "cell_type": "code",
   "execution_count": 6,
   "metadata": {},
   "outputs": [
    {
     "data": {
      "image/png": "[encoded data removed]",
      "text/plain": [
       "<Figure size 432x288 with 1 Axes>"
      ]
     },
     "metadata": {
      "needs_background": "light"
     },
     "output_type": "display_data"
    },
    {
     "data": {
      "image/png": "[encoded data removed]",
      "text/plain": [
       "<Figure size 432x288 with 1 Axes>"
      ]
     },
     "metadata": {
      "needs_background": "light"
     },
     "output_type": "display_data"
    }
   ],
   "source": [
    "import matplotlib.pyplot as plt\n",
    "import matplotlib.patches as ptch\n",
    "from matplotlib.collections import PatchCollection\n",
    "\n",
    "def get_pascal_vals(n: int):\n",
    "    \"\"\" Get a list of all rows in a pascal triangle\n",
    "    \n",
    "    For example, the pascal triangle for n=5 is:\n",
    "         1\n",
    "        1 1\n",
    "       1 2 1\n",
    "      1 3 3 1\n",
    "     1 4 6 4 1\n",
    "    get_pascal_vals(5) would return:\n",
    "    [\n",
    "    [1],\n",
    "    [1,1],\n",
    "    [1,2,1],\n",
    "    [1,3,3,1],\n",
    "    [1,4,6,4,1],\n",
    "    ]\n",
    "    \"\"\"\n",
    "    root = 1\n",
    "    vals = []\n",
    "    for i in range(n+1):\n",
    "        # base cases\n",
    "        if i == 0:\n",
    "            vals.append([root])\n",
    "            continue\n",
    "        # get values for the current line\n",
    "        line = []\n",
    "        for j in range(i):\n",
    "            # edges\n",
    "            if j == 0:\n",
    "                line.append(vals[i-1][0])\n",
    "            elif j == i-1:\n",
    "                line.append(vals[i-1][-1])\n",
    "            else:\n",
    "                line.append(vals[i-1][j-1] + vals[i-1][j])\n",
    "        vals.append(line)\n",
    "    return vals[1:]\n",
    "\n",
    "def show_pascal(n: int, show_numbers: bool = True):\n",
    "    \"\"\" A visualization of the pascal triangle\n",
    "    \"\"\"\n",
    "    vals = get_pascal_vals(n)\n",
    "    hexagons = []\n",
    "    hex_colors = []\n",
    "    dist_center_to_side = math.cos(math.radians(30))\n",
    "    labels = {}  # only populated if show_numbers=True\n",
    "    for row_num in range(len(vals)):\n",
    "        row = vals[row_num]\n",
    "        y = len(vals) - row_num - (row_num*(dist_center_to_side/2))\n",
    "        pts = []\n",
    "        for i_num in range(len(row)):\n",
    "            x = -(row_num-2*i_num)*dist_center_to_side\n",
    "            pts.append((x,y))\n",
    "            if show_numbers:\n",
    "                labels[(x,y)] = row[i_num]\n",
    "            hexagons.append(ptch.RegularPolygon((x,y), numVertices=6, radius=1, color='red'))\n",
    "            hex_colors.append('red' if row[i_num] % 2 == 0 else 'green')\n",
    "        #print(pts)\n",
    "    p = PatchCollection(hexagons, alpha=0.6)\n",
    "    fig, ax = plt.subplots()\n",
    "    ax.add_collection(p)\n",
    "    p.set_color(hex_colors)\n",
    "    for center, num in labels.items():\n",
    "        plt.text(center[0], center[1], num, horizontalalignment='center', verticalalignment='center')\n",
    "    plt.axis('equal')\n",
    "    plt.axis('off')\n",
    "    plt.tight_layout()\n",
    "    plt.show()\n",
    "\n",
    "show_pascal(10)\n",
    "show_pascal(50, show_numbers=False)"
   ]
  },
  {
   "cell_type": "markdown",
   "metadata": {},
   "source": [
    "- - -\n",
    "- - -\n",
    "\n",
    "### **7.** Symbolic Manipulation\n",
    "\n",
    "Use sympy to specify and solve the following equations for $x$.\n",
    "\n",
    "- $x^2 + 2x - 1 = 0$ \n",
    "- $a x^2 + bx + c = 0$\n",
    "\n",
    "- - -\n",
    "#### **Answer**"
   ]
  },
  {
   "cell_type": "code",
   "execution_count": 7,
   "metadata": {},
   "outputs": [
    {
     "data": {
      "text/latex": [
       "$\\displaystyle \\left[ -1 + \\sqrt{2}, \\  - \\sqrt{2} - 1\\right]$"
      ],
      "text/plain": [
       "[-1 + √2, -√2 - 1]"
      ]
     },
     "execution_count": 7,
     "metadata": {},
     "output_type": "execute_result"
    }
   ],
   "source": [
    "import sympy as sym\n",
    "sym.init_printing(use_latex='mathjax')\n",
    "\n",
    "x = sym.symbols(\"x\")\n",
    "f_1 = x**2 + 2*x - 1\n",
    "sym.solve(f_1, x)"
   ]
  },
  {
   "cell_type": "code",
   "execution_count": 8,
   "metadata": {},
   "outputs": [
    {
     "data": {
      "text/latex": [
       "$\\displaystyle \\left[ \\frac{- b + \\sqrt{- 4 a c + b^{2}}}{2 a}, \\  - \\frac{b + \\sqrt{- 4 a c + b^{2}}}{2 a}\\right]$"
      ],
      "text/plain": [
       "⎡        _____________   ⎛       _____________⎞ ⎤\n",
       "⎢       ╱           2    ⎜      ╱           2 ⎟ ⎥\n",
       "⎢-b + ╲╱  -4⋅a⋅c + b    -⎝b + ╲╱  -4⋅a⋅c + b  ⎠ ⎥\n",
       "⎢─────────────────────, ────────────────────────⎥\n",
       "⎣         2⋅a                     2⋅a           ⎦"
      ]
     },
     "execution_count": 8,
     "metadata": {},
     "output_type": "execute_result"
    }
   ],
   "source": [
    "x, a, b, c = sym.symbols(\"x a b c\")\n",
    "f_2 = a*x**2 + b*x + c\n",
    "sym.solve(f_2, x)"
   ]
  },
  {
   "cell_type": "markdown",
   "metadata": {},
   "source": [
    "- - -\n",
    "Also, evaluate the following integrals using sympy\n",
    "\n",
    "- $\\int x^2 dx$\n",
    "- $\\int x e^{6x} dx$\n",
    "- $\\int (3t+5)\\cos(\\frac{t}{4}) dt$\n",
    "\n",
    "- - -\n",
    "#### **Answer**"
   ]
  },
  {
   "cell_type": "code",
   "execution_count": 9,
   "metadata": {},
   "outputs": [
    {
     "data": {
      "text/latex": [
       "$\\displaystyle \\frac{x^{3}}{3}$"
      ],
      "text/plain": [
       " 3\n",
       "x \n",
       "──\n",
       "3 "
      ]
     },
     "execution_count": 9,
     "metadata": {},
     "output_type": "execute_result"
    }
   ],
   "source": [
    "x = sym.symbols(\"x\")\n",
    "f_x = sym.integrate(x**2, x)\n",
    "f_x"
   ]
  },
  {
   "cell_type": "code",
   "execution_count": 10,
   "metadata": {},
   "outputs": [
    {
     "data": {
      "text/latex": [
       "$\\displaystyle \\frac{\\left(6 x - 1\\right) e^{6 x}}{36}$"
      ],
      "text/plain": [
       "           6⋅x\n",
       "(6⋅x - 1)⋅ℯ   \n",
       "──────────────\n",
       "      36      "
      ]
     },
     "execution_count": 10,
     "metadata": {},
     "output_type": "execute_result"
    }
   ],
   "source": [
    "x = sym.symbols(\"x\")\n",
    "f_x = sym.integrate(x*sym.exp(6*x), x)\n",
    "f_x"
   ]
  },
  {
   "cell_type": "code",
   "execution_count": 11,
   "metadata": {},
   "outputs": [
    {
     "data": {
      "text/latex": [
       "$\\displaystyle 12 t \\sin{\\left(\\frac{t}{4} \\right)} + 20 \\sin{\\left(\\frac{t}{4} \\right)} + 48 \\cos{\\left(\\frac{t}{4} \\right)}$"
      ],
      "text/plain": [
       "        ⎛t⎞         ⎛t⎞         ⎛t⎞\n",
       "12⋅t⋅sin⎜─⎟ + 20⋅sin⎜─⎟ + 48⋅cos⎜─⎟\n",
       "        ⎝4⎠         ⎝4⎠         ⎝4⎠"
      ]
     },
     "execution_count": 11,
     "metadata": {},
     "output_type": "execute_result"
    }
   ],
   "source": [
    "t = sym.symbols(\"t\")\n",
    "f_x = sym.integrate((3*t+5)*sym.cos(t/4), t)\n",
    "f_x"
   ]
  },
  {
   "cell_type": "markdown",
   "metadata": {},
   "source": [
    "- - -\n",
    "- - -\n",
    "\n",
    "### **8.** Typesetting\n",
    "\n",
    "Use LaTeX to typeset the following equations.\n",
    "\n",
    "<img src=\"https://www.sciencealert.com/images/Equations_web.jpg\">\n",
    "\n",
    "<img src=\"https://wikimedia.org/api/rest_v1/media/math/render/svg/dd4df8b838eb08d67530dce5a512756666204499\">\n",
    "\n",
    "- - -\n",
    "#### **Answer**"
   ]
  },
  {
   "cell_type": "markdown",
   "metadata": {},
   "source": [
    "\n",
    "<b>1. Pythagora's Theorem</b>\n",
    "\n",
    "$ a^2 + b^2 = c^2 $\n",
    "\n",
    "\n",
    "<b>2. Logarithms</b>\n",
    "\n",
    "$ \\log xy = \\log x + \\log y $\n",
    "\n",
    "\n",
    "<b>3. Calculus</b>\n",
    "\n",
    "$ \\frac{df}{dt} = lim_{h \\rightarrow 0} = \\frac{f(t_h) - f(t)}{h}  $\n",
    "\n",
    "\n",
    "<b>4. Law of Gravity</b>\n",
    "\n",
    "$ F = G\\frac{m_1m_2}{r^2} $\n",
    "\n",
    "\n",
    "<b>5. The Square root of -1</b>\n",
    "\n",
    "$ i^2 = -1 $\n",
    "\n",
    "\n",
    "<b>6. Euler's Formula for Polyhedra</b>\n",
    "    \n",
    "$ V - E + F = 2 $\n",
    "\n",
    "\n",
    "<b>7. Normal Distribution</b>\n",
    "\n",
    "$ \\Phi(x) = \\frac{1}{\\sqrt{2\\pi\\rho}}e{\\frac{(x-\\mu){2}}{2\\rho^2}} $\n",
    "\n",
    "\n",
    "<b>8. Wave Equation</b>\n",
    "\n",
    "$ \\frac{\\partial^2u}{\\partial t^2} = c^2 \\frac{\\partial^2u}{\\partial x^2} $\n",
    "\n",
    "\n",
    "<b>9. Fourier Transform</b>\n",
    "\n",
    "$ f(\\omega) = \\int_{-\\infty}^\\infty f(x) e^{-2\\pi i x \\omega} dx $\n",
    "\n",
    "\n",
    "<b>10. Navier-Stokes Equation</b>\n",
    "\n",
    "$ \\rho(\\frac{\\partial v}{\\partial t} + v \\cdot \\nabla v ) = - \\nabla p + \\nabla \\cdot \\boldsymbol{T} + f $\n",
    "\n",
    "\n",
    "<b>11. Maxwell's Equations</b>\n",
    "\n",
    "$ \\nabla \\cdot \\boldsymbol{E} = 0 $\n",
    "\n",
    "$ \\nabla \\times \\boldsymbol{E} = - \\frac{1}{c} \\frac{\\partial \\boldsymbol{H}}{\\partial t} $\n",
    "    \n",
    "$ \\nabla \\cdot \\boldsymbol{H} = 0 $\n",
    "    \n",
    "$ \\nabla \\times \\boldsymbol{H} = \\frac{1}{c} \\frac{\\partial \\boldsymbol{E}}{\\partial t} $\n",
    "\n",
    "\n",
    "<b>12. Second Law of Thermodynamics</b>\n",
    "\n",
    "$ d\\boldsymbol{S} \\ge 0 $\n",
    "\n",
    "\n",
    "<b>13. Relativity</b>\n",
    "\n",
    "$ \\boldsymbol{E} = mc^2 $\n",
    "\n",
    "\n",
    "<b>14. Schrodinger's Equation</b>\n",
    "\n",
    "$ i \\hbar \\frac{\\partial}{\\partial t}\\Psi = H \\Psi $\n",
    "\n",
    "\n",
    "<b>15. Information Theory</b>\n",
    "\n",
    "$ H = - \\sum p(x) \\log p(x) $\n",
    "\n",
    "\n",
    "<b>16. Chaos Theory</b>\n",
    "\n",
    "$ x_{t+1} = kx_t(1-x_t) $\n",
    "\n",
    "\n",
    "<b>17. Black-Scholes Equation</b>\n",
    "\n",
    "$ \\frac{1}{2} \\sigma^2 S^2 \\frac{\\partial^2 V}{\\partial S^2} + r S \\frac{\\partial V}{\\partial S} + \\frac{\\partial V}{\\partial t} - r V = 0 $\n",
    "\n",
    "\n",
    "<b>The last one:</b>\n",
    "\n",
    "$\n",
    "    {\\displaystyle \n",
    "        {\\begin{bmatrix}\n",
    "            \\lambda _{1}&1&0&0&0\\\\\n",
    "            0&\\lambda _{1}&1&0&0\\\\\n",
    "            0&0&\\lambda _{1}&0&0\\\\\n",
    "            0&0&0&\\lambda _{2}&1\\\\\n",
    "            0&0&0&0&\\lambda _{2}\n",
    "        \\end{bmatrix}\n",
    "    }^{n}={\n",
    "        \\begin{bmatrix}\n",
    "            \\lambda _{1}^{n}&{\\tbinom {n}{1}}\\lambda _{1}^{n-1}&{\\tbinom {n}{2}}\\lambda _{1}^{n-2}&0&0\\\\\n",
    "            0&\\lambda _{1}^{n}&{\\tbinom {n}{1}}\\lambda _{1}^{n-1}&0&0\\\\\n",
    "            0&0&\\lambda _{1}^{n}&0&0\\\\\n",
    "            0&0&0&\\lambda _{2}^{n}&{\\tbinom {n}{1}}\\lambda _{2}^{n-1}\\\\\n",
    "            0&0&0&0&\\lambda _{2}^{n}\n",
    "        \\end{bmatrix}\n",
    "    },}\n",
    "$\n",
    "\n",
    "Notes about that last one:\n",
    "1. If you are viewing the image in Jupyter Dark colorscheme, you cannot see it because of the transparency of the image\n",
    "2. If you go to the URL of the image, the title of the webpage is the LaTeX code needed to reproduce it."
   ]
  }
 ],
 "metadata": {
  "kernelspec": {
   "display_name": "Python 3",
   "language": "python",
   "name": "python3"
  },
  "language_info": {
   "codemirror_mode": {
    "name": "ipython",
    "version": 3
   },
   "file_extension": ".py",
   "mimetype": "text/x-python",
   "name": "python",
   "nbconvert_exporter": "python",
   "pygments_lexer": "ipython3",
   "version": "3.7.3"
  }
 },
 "nbformat": 4,
 "nbformat_minor": 4
}
