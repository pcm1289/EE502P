{
 "cells": [
  {
   "cell_type": "markdown",
   "metadata": {
    "ExecuteTime": {
     "end_time": "2019-09-24T16:05:23.746666Z",
     "start_time": "2019-09-24T16:05:23.741461Z"
    }
   },
   "source": [
    "EE 502 P: Analytical Methods for Electrical Engineering\n",
    "    \n",
    "# Homework 1: Python\n",
    "## Due 2 October, 2019 at 6:00 PM\n",
    "### <span style=\"color: red\">YOUR NAME HERE</span>\n",
    "\n",
    "Copyright &copy; 2019, University of Washington\n",
    "\n",
    "<hr>\n",
    "\n",
    "**Instructions**: Use this notebook as a template. Answer all questions using well formatted Markdown with embedded LaTeX equations, executable Jupyter cells, or both. Submit your homework solutions as an `.ipynb` file via Canvas.\n",
    "\n",
    "<span style=\"background: yellow; padding: 6px; border: 1pt solid black\">\n",
    "Although you may discuss the homework with others, you must turn in your own, original work.\n",
    "</span>\n",
    "\n",
    "**Things to remember:**\n",
    "- Use complete sentences. Equations should appear in text as grammatical elements.\n",
    "- Comment your code.\n",
    "- Label your axes. Title your plots. Use legends where appropriate. \n",
    "- Before submitting a notebook, choose Kernel -> Restart and Run All to make sure your notebook runs when the cells are evaluated in order. \n",
    "\n",
    "Note : Late homework will be accepted up to one week after the due date and will be worth 50% of its full credit score. "
   ]
  },
  {
   "cell_type": "markdown",
   "metadata": {},
   "source": [
    "### 0. Warmup (Do not turn in)\n",
    "\n",
    "- Get Jupyter running on your computer, or learn to use Google Colab's Jupyter environment.\n",
    "- Make sure you can click through the Lecture 1 notes on Python. Try change some of the cells to see the effects. \n",
    "- If you haven't done any Python, follow one of the links in Lecture 1 to a tutorial and work through it.\n",
    "- If you haven't done any Numpy or Sympy, read through the linked documentation and tutorials for those too."
   ]
  },
  {
   "cell_type": "markdown",
   "metadata": {},
   "source": [
    "### 1. Whitespace\n",
    "Write two short Python fragments that are syntactically correct, have exactly the same non-whitespace characters **in the same order**, do not use random number generators, but produce (e.g. print) different results."
   ]
  },
  {
   "cell_type": "code",
   "execution_count": 2,
   "metadata": {},
   "outputs": [
    {
     "name": "stdout",
     "output_type": "stream",
     "text": [
      "2.5\n",
      "2\n"
     ]
    }
   ],
   "source": [
    "print(5/2)\n",
    "print(5//2)"
   ]
  },
  {
   "cell_type": "markdown",
   "metadata": {},
   "source": [
    "### 2. Complex Numbers\n",
    "Write a function `rand_complex(n)` that returns a list of `n` random complex numbers uniformly distributed in the unit circle (i.e. the magnitudes of the numbers are all between 0 and 1). Give the function a docstring. Demonstrate the function by making a list of 25 complex numbers. "
   ]
  },
  {
   "cell_type": "code",
   "execution_count": 91,
   "metadata": {},
   "outputs": [
    {
     "ename": "ValueError",
     "evalue": "setting an array element with a sequence.",
     "output_type": "error",
     "traceback": [
      "\u001b[1;31m---------------------------------------------------------------------------\u001b[0m",
      "\u001b[1;31mValueError\u001b[0m                                Traceback (most recent call last)",
      "\u001b[1;32m<ipython-input-91-f8aca10e4c9e>\u001b[0m in \u001b[0;36m<module>\u001b[1;34m\u001b[0m\n\u001b[0;32m     54\u001b[0m     \u001b[0mprint\u001b[0m\u001b[1;33m(\u001b[0m\u001b[1;34m'%% above 0.9 = %d/%d = %.02f'\u001b[0m \u001b[1;33m%\u001b[0m \u001b[1;33m(\u001b[0m\u001b[0mnum_above_90_percent\u001b[0m\u001b[1;33m,\u001b[0m \u001b[0mruns\u001b[0m\u001b[1;33m,\u001b[0m \u001b[0mnum_above_90_percent\u001b[0m\u001b[1;33m/\u001b[0m\u001b[0mruns\u001b[0m\u001b[1;33m)\u001b[0m\u001b[1;33m)\u001b[0m\u001b[1;33m\u001b[0m\u001b[1;33m\u001b[0m\u001b[0m\n\u001b[0;32m     55\u001b[0m \u001b[1;33m\u001b[0m\u001b[0m\n\u001b[1;32m---> 56\u001b[1;33m \u001b[0mtest_it\u001b[0m\u001b[1;33m(\u001b[0m\u001b[1;33m)\u001b[0m\u001b[1;33m\u001b[0m\u001b[1;33m\u001b[0m\u001b[0m\n\u001b[0m\u001b[0;32m     57\u001b[0m \u001b[1;33m\u001b[0m\u001b[0m\n\u001b[0;32m     58\u001b[0m \u001b[0mrand_complex\u001b[0m\u001b[1;33m(\u001b[0m\u001b[1;36m25\u001b[0m\u001b[1;33m)\u001b[0m\u001b[1;33m\u001b[0m\u001b[1;33m\u001b[0m\u001b[0m\n",
      "\u001b[1;32m<ipython-input-91-f8aca10e4c9e>\u001b[0m in \u001b[0;36mtest_it\u001b[1;34m(runs, epsilon)\u001b[0m\n\u001b[0;32m     44\u001b[0m         \u001b[0mmax_magnitude\u001b[0m \u001b[1;33m=\u001b[0m \u001b[1;33m[\u001b[0m\u001b[0mabs\u001b[0m\u001b[1;33m(\u001b[0m\u001b[0mx\u001b[0m\u001b[1;33m)\u001b[0m \u001b[1;32mfor\u001b[0m \u001b[0mx\u001b[0m \u001b[1;32min\u001b[0m \u001b[0mnums\u001b[0m\u001b[1;33m]\u001b[0m\u001b[1;33m\u001b[0m\u001b[1;33m\u001b[0m\u001b[0m\n\u001b[0;32m     45\u001b[0m         \u001b[0mmax_magnitude\u001b[0m\u001b[1;33m.\u001b[0m\u001b[0msort\u001b[0m\u001b[1;33m(\u001b[0m\u001b[1;33m)\u001b[0m\u001b[1;33m\u001b[0m\u001b[1;33m\u001b[0m\u001b[0m\n\u001b[1;32m---> 46\u001b[1;33m         \u001b[0mplt\u001b[0m\u001b[1;33m.\u001b[0m\u001b[0mplot\u001b[0m\u001b[1;33m(\u001b[0m\u001b[0mnumpy\u001b[0m\u001b[1;33m.\u001b[0m\u001b[0mhistogram\u001b[0m\u001b[1;33m(\u001b[0m\u001b[0mmax_magnitude\u001b[0m\u001b[1;33m)\u001b[0m\u001b[1;33m)\u001b[0m\u001b[1;33m\u001b[0m\u001b[1;33m\u001b[0m\u001b[0m\n\u001b[0m\u001b[0;32m     47\u001b[0m         \u001b[1;32massert\u001b[0m \u001b[0mmax_magnitude\u001b[0m\u001b[1;33m[\u001b[0m\u001b[1;33m-\u001b[0m\u001b[1;36m1\u001b[0m\u001b[1;33m]\u001b[0m \u001b[1;33m<=\u001b[0m \u001b[1;36m1.0\u001b[0m \u001b[1;33m+\u001b[0m \u001b[0mepsilon\u001b[0m\u001b[1;33m,\u001b[0m \u001b[1;34m'not properly normalized: %s'\u001b[0m \u001b[1;33m%\u001b[0m \u001b[1;33m(\u001b[0m\u001b[0mstr\u001b[0m\u001b[1;33m(\u001b[0m\u001b[0mmax_magnitude\u001b[0m\u001b[1;33m)\u001b[0m\u001b[1;33m)\u001b[0m\u001b[1;33m\u001b[0m\u001b[1;33m\u001b[0m\u001b[0m\n\u001b[0;32m     48\u001b[0m         \u001b[1;31m#print('%d\\n=========\\n%s' % (trial, '\\n'.join(['|x_%d| = %.02f, x_%d = %s' % (i, abs(nums[i]), i, str(nums[i])) for i in range(len(nums))])))\u001b[0m\u001b[1;33m\u001b[0m\u001b[1;33m\u001b[0m\u001b[1;33m\u001b[0m\u001b[0m\n",
      "\u001b[1;32mc:\\users\\pcm1289\\appdata\\local\\programs\\python\\python37\\lib\\site-packages\\matplotlib\\pyplot.py\u001b[0m in \u001b[0;36mplot\u001b[1;34m(scalex, scaley, data, *args, **kwargs)\u001b[0m\n\u001b[0;32m   2787\u001b[0m     return gca().plot(\n\u001b[0;32m   2788\u001b[0m         *args, scalex=scalex, scaley=scaley, **({\"data\": data} if data\n\u001b[1;32m-> 2789\u001b[1;33m         is not None else {}), **kwargs)\n\u001b[0m\u001b[0;32m   2790\u001b[0m \u001b[1;33m\u001b[0m\u001b[0m\n\u001b[0;32m   2791\u001b[0m \u001b[1;33m\u001b[0m\u001b[0m\n",
      "\u001b[1;32mc:\\users\\pcm1289\\appdata\\local\\programs\\python\\python37\\lib\\site-packages\\matplotlib\\axes\\_axes.py\u001b[0m in \u001b[0;36mplot\u001b[1;34m(self, scalex, scaley, data, *args, **kwargs)\u001b[0m\n\u001b[0;32m   1666\u001b[0m         \u001b[0mlines\u001b[0m \u001b[1;33m=\u001b[0m \u001b[1;33m[\u001b[0m\u001b[1;33m*\u001b[0m\u001b[0mself\u001b[0m\u001b[1;33m.\u001b[0m\u001b[0m_get_lines\u001b[0m\u001b[1;33m(\u001b[0m\u001b[1;33m*\u001b[0m\u001b[0margs\u001b[0m\u001b[1;33m,\u001b[0m \u001b[0mdata\u001b[0m\u001b[1;33m=\u001b[0m\u001b[0mdata\u001b[0m\u001b[1;33m,\u001b[0m \u001b[1;33m**\u001b[0m\u001b[0mkwargs\u001b[0m\u001b[1;33m)\u001b[0m\u001b[1;33m]\u001b[0m\u001b[1;33m\u001b[0m\u001b[1;33m\u001b[0m\u001b[0m\n\u001b[0;32m   1667\u001b[0m         \u001b[1;32mfor\u001b[0m \u001b[0mline\u001b[0m \u001b[1;32min\u001b[0m \u001b[0mlines\u001b[0m\u001b[1;33m:\u001b[0m\u001b[1;33m\u001b[0m\u001b[1;33m\u001b[0m\u001b[0m\n\u001b[1;32m-> 1668\u001b[1;33m             \u001b[0mself\u001b[0m\u001b[1;33m.\u001b[0m\u001b[0madd_line\u001b[0m\u001b[1;33m(\u001b[0m\u001b[0mline\u001b[0m\u001b[1;33m)\u001b[0m\u001b[1;33m\u001b[0m\u001b[1;33m\u001b[0m\u001b[0m\n\u001b[0m\u001b[0;32m   1669\u001b[0m         \u001b[0mself\u001b[0m\u001b[1;33m.\u001b[0m\u001b[0mautoscale_view\u001b[0m\u001b[1;33m(\u001b[0m\u001b[0mscalex\u001b[0m\u001b[1;33m=\u001b[0m\u001b[0mscalex\u001b[0m\u001b[1;33m,\u001b[0m \u001b[0mscaley\u001b[0m\u001b[1;33m=\u001b[0m\u001b[0mscaley\u001b[0m\u001b[1;33m)\u001b[0m\u001b[1;33m\u001b[0m\u001b[1;33m\u001b[0m\u001b[0m\n\u001b[0;32m   1670\u001b[0m         \u001b[1;32mreturn\u001b[0m \u001b[0mlines\u001b[0m\u001b[1;33m\u001b[0m\u001b[1;33m\u001b[0m\u001b[0m\n",
      "\u001b[1;32mc:\\users\\pcm1289\\appdata\\local\\programs\\python\\python37\\lib\\site-packages\\matplotlib\\axes\\_base.py\u001b[0m in \u001b[0;36madd_line\u001b[1;34m(self, line)\u001b[0m\n\u001b[0;32m   1898\u001b[0m             \u001b[0mline\u001b[0m\u001b[1;33m.\u001b[0m\u001b[0mset_clip_path\u001b[0m\u001b[1;33m(\u001b[0m\u001b[0mself\u001b[0m\u001b[1;33m.\u001b[0m\u001b[0mpatch\u001b[0m\u001b[1;33m)\u001b[0m\u001b[1;33m\u001b[0m\u001b[1;33m\u001b[0m\u001b[0m\n\u001b[0;32m   1899\u001b[0m \u001b[1;33m\u001b[0m\u001b[0m\n\u001b[1;32m-> 1900\u001b[1;33m         \u001b[0mself\u001b[0m\u001b[1;33m.\u001b[0m\u001b[0m_update_line_limits\u001b[0m\u001b[1;33m(\u001b[0m\u001b[0mline\u001b[0m\u001b[1;33m)\u001b[0m\u001b[1;33m\u001b[0m\u001b[1;33m\u001b[0m\u001b[0m\n\u001b[0m\u001b[0;32m   1901\u001b[0m         \u001b[1;32mif\u001b[0m \u001b[1;32mnot\u001b[0m \u001b[0mline\u001b[0m\u001b[1;33m.\u001b[0m\u001b[0mget_label\u001b[0m\u001b[1;33m(\u001b[0m\u001b[1;33m)\u001b[0m\u001b[1;33m:\u001b[0m\u001b[1;33m\u001b[0m\u001b[1;33m\u001b[0m\u001b[0m\n\u001b[0;32m   1902\u001b[0m             \u001b[0mline\u001b[0m\u001b[1;33m.\u001b[0m\u001b[0mset_label\u001b[0m\u001b[1;33m(\u001b[0m\u001b[1;34m'_line%d'\u001b[0m \u001b[1;33m%\u001b[0m \u001b[0mlen\u001b[0m\u001b[1;33m(\u001b[0m\u001b[0mself\u001b[0m\u001b[1;33m.\u001b[0m\u001b[0mlines\u001b[0m\u001b[1;33m)\u001b[0m\u001b[1;33m)\u001b[0m\u001b[1;33m\u001b[0m\u001b[1;33m\u001b[0m\u001b[0m\n",
      "\u001b[1;32mc:\\users\\pcm1289\\appdata\\local\\programs\\python\\python37\\lib\\site-packages\\matplotlib\\axes\\_base.py\u001b[0m in \u001b[0;36m_update_line_limits\u001b[1;34m(self, line)\u001b[0m\n\u001b[0;32m   1920\u001b[0m         \u001b[0mFigures\u001b[0m \u001b[0mout\u001b[0m \u001b[0mthe\u001b[0m \u001b[0mdata\u001b[0m \u001b[0mlimit\u001b[0m \u001b[0mof\u001b[0m \u001b[0mthe\u001b[0m \u001b[0mgiven\u001b[0m \u001b[0mline\u001b[0m\u001b[1;33m,\u001b[0m \u001b[0mupdating\u001b[0m \u001b[0mself\u001b[0m\u001b[1;33m.\u001b[0m\u001b[0mdataLim\u001b[0m\u001b[1;33m.\u001b[0m\u001b[1;33m\u001b[0m\u001b[1;33m\u001b[0m\u001b[0m\n\u001b[0;32m   1921\u001b[0m         \"\"\"\n\u001b[1;32m-> 1922\u001b[1;33m         \u001b[0mpath\u001b[0m \u001b[1;33m=\u001b[0m \u001b[0mline\u001b[0m\u001b[1;33m.\u001b[0m\u001b[0mget_path\u001b[0m\u001b[1;33m(\u001b[0m\u001b[1;33m)\u001b[0m\u001b[1;33m\u001b[0m\u001b[1;33m\u001b[0m\u001b[0m\n\u001b[0m\u001b[0;32m   1923\u001b[0m         \u001b[1;32mif\u001b[0m \u001b[0mpath\u001b[0m\u001b[1;33m.\u001b[0m\u001b[0mvertices\u001b[0m\u001b[1;33m.\u001b[0m\u001b[0msize\u001b[0m \u001b[1;33m==\u001b[0m \u001b[1;36m0\u001b[0m\u001b[1;33m:\u001b[0m\u001b[1;33m\u001b[0m\u001b[1;33m\u001b[0m\u001b[0m\n\u001b[0;32m   1924\u001b[0m             \u001b[1;32mreturn\u001b[0m\u001b[1;33m\u001b[0m\u001b[1;33m\u001b[0m\u001b[0m\n",
      "\u001b[1;32mc:\\users\\pcm1289\\appdata\\local\\programs\\python\\python37\\lib\\site-packages\\matplotlib\\lines.py\u001b[0m in \u001b[0;36mget_path\u001b[1;34m(self)\u001b[0m\n\u001b[0;32m   1025\u001b[0m         \"\"\"\n\u001b[0;32m   1026\u001b[0m         \u001b[1;32mif\u001b[0m \u001b[0mself\u001b[0m\u001b[1;33m.\u001b[0m\u001b[0m_invalidy\u001b[0m \u001b[1;32mor\u001b[0m \u001b[0mself\u001b[0m\u001b[1;33m.\u001b[0m\u001b[0m_invalidx\u001b[0m\u001b[1;33m:\u001b[0m\u001b[1;33m\u001b[0m\u001b[1;33m\u001b[0m\u001b[0m\n\u001b[1;32m-> 1027\u001b[1;33m             \u001b[0mself\u001b[0m\u001b[1;33m.\u001b[0m\u001b[0mrecache\u001b[0m\u001b[1;33m(\u001b[0m\u001b[1;33m)\u001b[0m\u001b[1;33m\u001b[0m\u001b[1;33m\u001b[0m\u001b[0m\n\u001b[0m\u001b[0;32m   1028\u001b[0m         \u001b[1;32mreturn\u001b[0m \u001b[0mself\u001b[0m\u001b[1;33m.\u001b[0m\u001b[0m_path\u001b[0m\u001b[1;33m\u001b[0m\u001b[1;33m\u001b[0m\u001b[0m\n\u001b[0;32m   1029\u001b[0m \u001b[1;33m\u001b[0m\u001b[0m\n",
      "\u001b[1;32mc:\\users\\pcm1289\\appdata\\local\\programs\\python\\python37\\lib\\site-packages\\matplotlib\\lines.py\u001b[0m in \u001b[0;36mrecache\u001b[1;34m(self, always)\u001b[0m\n\u001b[0;32m    673\u001b[0m         \u001b[1;32mif\u001b[0m \u001b[0malways\u001b[0m \u001b[1;32mor\u001b[0m \u001b[0mself\u001b[0m\u001b[1;33m.\u001b[0m\u001b[0m_invalidy\u001b[0m\u001b[1;33m:\u001b[0m\u001b[1;33m\u001b[0m\u001b[1;33m\u001b[0m\u001b[0m\n\u001b[0;32m    674\u001b[0m             \u001b[0myconv\u001b[0m \u001b[1;33m=\u001b[0m \u001b[0mself\u001b[0m\u001b[1;33m.\u001b[0m\u001b[0mconvert_yunits\u001b[0m\u001b[1;33m(\u001b[0m\u001b[0mself\u001b[0m\u001b[1;33m.\u001b[0m\u001b[0m_yorig\u001b[0m\u001b[1;33m)\u001b[0m\u001b[1;33m\u001b[0m\u001b[1;33m\u001b[0m\u001b[0m\n\u001b[1;32m--> 675\u001b[1;33m             \u001b[0my\u001b[0m \u001b[1;33m=\u001b[0m \u001b[0m_to_unmasked_float_array\u001b[0m\u001b[1;33m(\u001b[0m\u001b[0myconv\u001b[0m\u001b[1;33m)\u001b[0m\u001b[1;33m.\u001b[0m\u001b[0mravel\u001b[0m\u001b[1;33m(\u001b[0m\u001b[1;33m)\u001b[0m\u001b[1;33m\u001b[0m\u001b[1;33m\u001b[0m\u001b[0m\n\u001b[0m\u001b[0;32m    676\u001b[0m         \u001b[1;32melse\u001b[0m\u001b[1;33m:\u001b[0m\u001b[1;33m\u001b[0m\u001b[1;33m\u001b[0m\u001b[0m\n\u001b[0;32m    677\u001b[0m             \u001b[0my\u001b[0m \u001b[1;33m=\u001b[0m \u001b[0mself\u001b[0m\u001b[1;33m.\u001b[0m\u001b[0m_y\u001b[0m\u001b[1;33m\u001b[0m\u001b[1;33m\u001b[0m\u001b[0m\n",
      "\u001b[1;32mc:\\users\\pcm1289\\appdata\\local\\programs\\python\\python37\\lib\\site-packages\\matplotlib\\cbook\\__init__.py\u001b[0m in \u001b[0;36m_to_unmasked_float_array\u001b[1;34m(x)\u001b[0m\n\u001b[0;32m   1388\u001b[0m         \u001b[1;32mreturn\u001b[0m \u001b[0mnp\u001b[0m\u001b[1;33m.\u001b[0m\u001b[0mma\u001b[0m\u001b[1;33m.\u001b[0m\u001b[0masarray\u001b[0m\u001b[1;33m(\u001b[0m\u001b[0mx\u001b[0m\u001b[1;33m,\u001b[0m \u001b[0mfloat\u001b[0m\u001b[1;33m)\u001b[0m\u001b[1;33m.\u001b[0m\u001b[0mfilled\u001b[0m\u001b[1;33m(\u001b[0m\u001b[0mnp\u001b[0m\u001b[1;33m.\u001b[0m\u001b[0mnan\u001b[0m\u001b[1;33m)\u001b[0m\u001b[1;33m\u001b[0m\u001b[1;33m\u001b[0m\u001b[0m\n\u001b[0;32m   1389\u001b[0m     \u001b[1;32melse\u001b[0m\u001b[1;33m:\u001b[0m\u001b[1;33m\u001b[0m\u001b[1;33m\u001b[0m\u001b[0m\n\u001b[1;32m-> 1390\u001b[1;33m         \u001b[1;32mreturn\u001b[0m \u001b[0mnp\u001b[0m\u001b[1;33m.\u001b[0m\u001b[0masarray\u001b[0m\u001b[1;33m(\u001b[0m\u001b[0mx\u001b[0m\u001b[1;33m,\u001b[0m \u001b[0mfloat\u001b[0m\u001b[1;33m)\u001b[0m\u001b[1;33m\u001b[0m\u001b[1;33m\u001b[0m\u001b[0m\n\u001b[0m\u001b[0;32m   1391\u001b[0m \u001b[1;33m\u001b[0m\u001b[0m\n\u001b[0;32m   1392\u001b[0m \u001b[1;33m\u001b[0m\u001b[0m\n",
      "\u001b[1;32mc:\\users\\pcm1289\\appdata\\local\\programs\\python\\python37\\lib\\site-packages\\numpy\\core\\numeric.py\u001b[0m in \u001b[0;36masarray\u001b[1;34m(a, dtype, order)\u001b[0m\n\u001b[0;32m    536\u001b[0m \u001b[1;33m\u001b[0m\u001b[0m\n\u001b[0;32m    537\u001b[0m     \"\"\"\n\u001b[1;32m--> 538\u001b[1;33m     \u001b[1;32mreturn\u001b[0m \u001b[0marray\u001b[0m\u001b[1;33m(\u001b[0m\u001b[0ma\u001b[0m\u001b[1;33m,\u001b[0m \u001b[0mdtype\u001b[0m\u001b[1;33m,\u001b[0m \u001b[0mcopy\u001b[0m\u001b[1;33m=\u001b[0m\u001b[1;32mFalse\u001b[0m\u001b[1;33m,\u001b[0m \u001b[0morder\u001b[0m\u001b[1;33m=\u001b[0m\u001b[0morder\u001b[0m\u001b[1;33m)\u001b[0m\u001b[1;33m\u001b[0m\u001b[1;33m\u001b[0m\u001b[0m\n\u001b[0m\u001b[0;32m    539\u001b[0m \u001b[1;33m\u001b[0m\u001b[0m\n\u001b[0;32m    540\u001b[0m \u001b[1;33m\u001b[0m\u001b[0m\n",
      "\u001b[1;31mValueError\u001b[0m: setting an array element with a sequence."
     ]
    }
   ],
   "source": [
    "import matplotlib.pyplot as plt\n",
    "import numpy\n",
    "from numpy import array as arr\n",
    "from numpy import abs\n",
    "import math\n",
    "\n",
    "\n",
    "def rand_complex(n: int, normalize: bool=False) -> list:\n",
    "    \"\"\"\n",
    "    Returns a list of n random complex numbers that are uniformly distributed\n",
    "        between 0 and 1.\n",
    "\n",
    "    :bool normalize: ensure the sum of the magnitude of all elements is 1\n",
    "    :return list: of uniformly distributed numbers\n",
    "    \"\"\"\n",
    "    # get lists of n random numbers with a uniform distribution \n",
    "    #  for real and complex parts of the number\n",
    "    real_parts = numpy.random.uniform(0.0, 1.0, size=n)\n",
    "    complex_parts = numpy.random.uniform(0.0, 1.0, size=n)\n",
    "    #complex_parts = [x*1j for x in complex_parts]\n",
    "    numbers = arr(real_parts) + 1j*arr(complex_parts)\n",
    "\n",
    "    # normalize every element but it's absolute value\n",
    "    if normalize:\n",
    "        magnitudes = [abs(x) for x in numbers]\n",
    "        normalized_values = [numbers[i]/max(magnitudes) for i in range(len(numbers))]\n",
    "        return normalized_values\n",
    "\n",
    "    return numbers\n",
    "\n",
    "\n",
    "\n",
    "def test_it(runs=100, epsilon=10e-7):\n",
    "    # these num_*_percent variables below should both be about 10% of the number of runs\n",
    "    num_below_10_percent = 0\n",
    "    num_above_90_percent = 0\n",
    "    for trial in range(100):\n",
    "        nums = rand_complex(10, normalize=True)\n",
    "        #print('run_%03d: min(%s), max(%s)' % (trial, min(nums), max(nums)))\n",
    "        \n",
    "        num_below_10_percent += 1 if any(x < 0.1 for x in nums) else 0\n",
    "        num_above_90_percent += 1 if any(x > 0.9 for x in nums) else 0\n",
    "\n",
    "        max_magnitude = [abs(x) for x in nums]\n",
    "        #max_magnitude.sort()\n",
    "        plt.plot(numpy.histogram(max_magnitude))\n",
    "        assert max_magnitude[-1] <= 1.0 + epsilon, 'not properly normalized: %s' % (str(max_magnitude))\n",
    "        #print('%d\\n=========\\n%s' % (trial, '\\n'.join(['|x_%d| = %.02f, x_%d = %s' % (i, abs(nums[i]), i, str(nums[i])) for i in range(len(nums))])))\n",
    "        \n",
    "\n",
    "    \n",
    "    print('number of runs: %d\\n----- -----' % (runs))\n",
    "    print('%% below 0.1 = %d/%d = %.02f' % (num_below_10_percent, runs, num_below_10_percent/runs))\n",
    "    print('%% above 0.9 = %d/%d = %.02f' % (num_above_90_percent, runs, num_above_90_percent/runs))\n",
    "    \n",
    "test_it()\n",
    "\n",
    "rand_complex(25)\n"
   ]
  },
  {
   "cell_type": "markdown",
   "metadata": {},
   "source": [
    "### 3. Hashes\n",
    "Write a function `to_hash(L) `that takes a list of complex numbers `L` and returns an array of hashes of equal length, where each hash is of the form `{ \"re\": a, \"im\": b }`. Give the function a docstring and test it by converting a list of 25 numbers generated by your `rand_complex` function. "
   ]
  },
  {
   "cell_type": "markdown",
   "metadata": {},
   "source": [
    "### 4. Matrices\n",
    "\n",
    "Write a function `upper_traingular(n)` that returns an $n \\times n$ numpy matrix with zeros on the lower diagonal, and ones on the diagonal and upper diagonal. For example, `upper_triangular(3)` would return\n",
    "\n",
    "```python\n",
    "array([[1, 1, 1],\n",
    "       [0, 1, 1],\n",
    "       [0, 0, 1]])\n",
    "```"
   ]
  },
  {
   "cell_type": "code",
   "execution_count": 108,
   "metadata": {},
   "outputs": [
    {
     "data": {
      "text/plain": [
       "array([[1., 1., 1.],\n",
       "       [0., 1., 1.],\n",
       "       [0., 0., 1.]])"
      ]
     },
     "execution_count": 108,
     "metadata": {},
     "output_type": "execute_result"
    }
   ],
   "source": [
    "import numpy\n",
    "from numpy import array\n",
    "\n",
    "def upper_triangular(n: int) -> array:\n",
    "    ret = numpy.ones((n, n))\n",
    "    for i in range(n):\n",
    "        for x in range(i):\n",
    "            ret[i,x] = 0\n",
    "    return ret\n",
    "\n",
    "\n",
    "upper_triangular(3)"
   ]
  },
  {
   "cell_type": "markdown",
   "metadata": {},
   "source": [
    "### 5. Numpy\n",
    "\n",
    "Write a function `convolve(M,K)` that takes an $n \\times m$ matrix $M$ and a $3 \\times 3$ matrix $K$ (called the kernel) and returns their convolution as in the following diagram:\n",
    "\n",
    "<img src=\"http://machinelearninguru.com/_images/topics/computer_vision/basics/convolution/5.JPG\" width=500>\n",
    "\n",
    "Do not use any predefined convolution functions from numpy or scipy. Write your own. If the matrix $M$ is too small, your function should return a exception.\n",
    "\n",
    "The matrix returned will have two fewer rows and two fewer columns than $M$. Test your function by making a $100 \\times 100$ matrix of zeros and ones that as an image look like the letter X and convolve it with the kernel\n",
    "\n",
    "$$\n",
    "K = \\frac{1}{16} \\begin{pmatrix}\n",
    "1 & 2 & 1 \\\\\n",
    "2 & 4 & 2 \\\\\n",
    "1 & 2 & 1\n",
    "\\end{pmatrix}\n",
    "$$\n",
    "\n",
    "Use `imshow` to display both images using subplots. "
   ]
  },
  {
   "cell_type": "code",
   "execution_count": 36,
   "metadata": {},
   "outputs": [
    {
     "name": "stdout",
     "output_type": "stream",
     "text": [
      "my convolve() took 0:00:00.171786\n",
      "scipy.ndimage.filters.convolve took 0:00:00\n",
      "shape is different: s((100, 100)) mine((98, 98))\n",
      "579 failed points out of 9604\n"
     ]
    },
    {
     "data": {
      "image/png": "[encoded data removed]",
      "text/plain": [
       "<Figure size 432x288 with 4 Axes>"
      ]
     },
     "metadata": {
      "needs_background": "light"
     },
     "output_type": "display_data"
    },
    {
     "data": {
      "text/plain": [
       "\u001b[1;31mSignature:\u001b[0m \u001b[0mconvolve\u001b[0m\u001b[1;33m(\u001b[0m\u001b[0mM\u001b[0m\u001b[1;33m,\u001b[0m \u001b[0mK\u001b[0m\u001b[1;33m,\u001b[0m \u001b[0mparallel\u001b[0m\u001b[1;33m=\u001b[0m\u001b[1;32mFalse\u001b[0m\u001b[1;33m)\u001b[0m\u001b[1;33m\u001b[0m\u001b[1;33m\u001b[0m\u001b[0m\n",
       "\u001b[1;31mDocstring:\u001b[0m\n",
       "This function convolves a $ m       imes n $ matrix with a $ 3      imes 3 $ kernel K\n",
       "    The resulting matrix is $(m-2)  imes (n-2)$\n",
       "\u001b[1;31mFile:\u001b[0m      c:\\users\\pcm1289\\git\\ee502p\\hw\\<ipython-input-36-c112ad444557>\n",
       "\u001b[1;31mType:\u001b[0m      function\n"
      ]
     },
     "metadata": {},
     "output_type": "display_data"
    }
   ],
   "source": [
    "import datetime\n",
    "import numpy\n",
    "import matplotlib.pyplot as plt\n",
    "\n",
    "from threading import Thread, Semaphore   # oops, not as readble :P\n",
    "\n",
    "class InvalidKernelSize(Exception):\n",
    "    pass\n",
    "\n",
    "class InvalidOperation(Exception):\n",
    "    pass\n",
    "\n",
    "def convolve(M, K, parallel=False):\n",
    "    \"\"\"\n",
    "    This function convolves a $ m \\times n $ matrix with a $ 3 \\times 3 $ kernel K\n",
    "        The resulting matrix is $(m-2) \\times (n-2)$\n",
    "    \"\"\"\n",
    "    # invalid input checks\n",
    "    K = numpy.array(K)\n",
    "    if K.shape != (3,3):\n",
    "        raise InvalidKernelSize(\"matrix is not 3x3: size=%d, shape=%s\" % (K.size, str(K.shape)))\n",
    "\n",
    "    M = numpy.array(M)\n",
    "    if M is None or len(M.shape) != 2 or \\\n",
    "        M.shape[0] < K.shape[0] or M.shape[1] < K.shape[1]:\n",
    "            print('M.shape = %s -- K.shape = %s' % (M.shape, K.shape))\n",
    "            raise InvalidOperation('matrix is too small for operation you goofball')\n",
    "\n",
    "    # function that can be run in parallel since calculation of each element is mutually exclusive\n",
    "    def calculate_element(dest_idx, input_matrix, K, sem):\n",
    "        with sem:\n",
    "            final = 0\n",
    "            for i in range(len(input_matrix)):\n",
    "                for j in range(len(input_matrix[i])):\n",
    "                    row = input_matrix[i]\n",
    "                    final += row[j]*K[i,j]\n",
    "\n",
    "        resulting_array[dest_idx[0], dest_idx[1]] = final\n",
    "\n",
    "    resulting_array = numpy.zeros((M.shape[0]-2, M.shape[1]-2))\n",
    "    sem = Semaphore(1 if not parallel else 30)\n",
    "    pool = []\n",
    "\n",
    "    for i in range(len(M)-2):\n",
    "        for j in range(len(M[i])-2):\n",
    "            kwargs = {\n",
    "                'dest_idx': (i,j),\n",
    "                'input_matrix': M[i:i+3,j:j+3],\n",
    "                'K': K,\n",
    "                'sem': sem,\n",
    "            }\n",
    "            t = Thread(target=calculate_element, kwargs=kwargs)\n",
    "            if parallel:\n",
    "                t.start()\n",
    "                pool.append(t)\n",
    "            else:\n",
    "                t.run()\n",
    "\n",
    "    for t in pool:\n",
    "        t.join()\n",
    "\n",
    "    return resulting_array\n",
    "\n",
    "\n",
    "def get_x(n, w=3):\n",
    "    \"\"\"\n",
    "    Gets an NxN array of mostly 0s with 1s in the shape of an X\n",
    "        across the diagonals (width of w)\n",
    "    \"\"\"\n",
    "    ret = numpy.zeros((n,n))\n",
    "    for i in range(n):\n",
    "\n",
    "        ret[i, i:i+w] = 1\n",
    "\n",
    "        if i == 0:\n",
    "            ret[i,-1] = 1\n",
    "            offset = 1\n",
    "        else:\n",
    "            offset = 0\n",
    "        start = -(i+w)\n",
    "        stop = -(i+offset)\n",
    "        ret[i, start:stop] = 1\n",
    "\n",
    "#         print('i=%d, w=%d' % (i, w), end=' || ')\n",
    "#         print('start=%d, stop=%d, offset=%d' % (start, stop, offset))\n",
    "\n",
    "#         if i == 3:\n",
    "#             return ret\n",
    "\n",
    "    return ret\n",
    "\n",
    "compare_to_scipy = True\n",
    "if compare_to_scipy:\n",
    "    subplot_dims = (2,2)\n",
    "else:\n",
    "    subplot_dims = (1,2)\n",
    "\n",
    "\n",
    "x = get_x(100, w=1)\n",
    "K = (1/16)*numpy.array([\n",
    "    [1, 2, 1],\n",
    "    [2, 4, 2],\n",
    "    [1, 2, 1],\n",
    "])\n",
    "\n",
    "# plotting my function\n",
    "plt.subplots(*subplot_dims)\n",
    "plt.subplot(*subplot_dims,1)\n",
    "plt.imshow(x)\n",
    "\n",
    "plt.subplot(*subplot_dims,2)\n",
    "start = datetime.datetime.now()\n",
    "conv_x = convolve(x, K=K)\n",
    "print('my convolve() took %s' % (datetime.datetime.now() - start))\n",
    "plt.imshow(conv_x)\n",
    "\n",
    "if compare_to_scipy:\n",
    "    # uncomment for sanity check\n",
    "    plt.subplot(*subplot_dims,3)\n",
    "    plt.imshow(x)\n",
    "\n",
    "    import scipy, scipy.ndimage\n",
    "    plt.subplot(*subplot_dims,4)\n",
    "    start = datetime.datetime.now()\n",
    "    c = scipy.ndimage.filters.convolve(x, K)\n",
    "    print('scipy.ndimage.filters.convolve took %s' % (datetime.datetime.now() - start))\n",
    "    plt.imshow(c)\n",
    "    \n",
    "    if c.shape != conv_x.shape:\n",
    "        print('shape is different: s(%s) mine(%s)' % (c.shape, conv_x.shape))\n",
    "        \n",
    "    # quick count of number of different points in my convolution vs. scipy\n",
    "    fails = []\n",
    "    for i in range(len(c)-2):\n",
    "        for j in range(len(c[i])-2):\n",
    "            #print('i=%d j=%d' % (i,j))\n",
    "            if c[i,j] != conv_x[i,j]:\n",
    "                fails.append((i,j))\n",
    "    print('%d failed points out of %d' % (len(fails), (len(c)-2)*(len(c[0])-2)))\n",
    "\n",
    "?convolve"
   ]
  },
  {
   "cell_type": "markdown",
   "metadata": {},
   "source": [
    "### 6. Visualization\n",
    "\n",
    "Write a function `show_pascal(n)` that returns a plot of Pascal's triangle in the following form. It should work for any number of of rows $n$ and must show the hexagons. Use a keyword argument that defaults to `True` for whether to show the numbers. Make sure the numbers are centered in the hexagons. Details like the bottom row of partial hexagons and the ellipsis are optional. Feel free to use colors and more styling. For example, if you color the hexagons black for even numbers and white for odd numbers, it will look like a Serpinski Gasket! Demonstrate the function with $n=10$ showing the numbers and for $n=50$ without the numbers. \n",
    "\n",
    "<img src=\"https://cdn.mos.cms.futurecdn.net/LH5vimYVrei3iDU2sgDM2G-650-80.jpg\" width=250px>\n",
    "\n",
    "For $n=50$ you may want to not render the edges so that the edges do not take up the whole image.\n",
    "\n",
    "Note: A previous version of this problem required you to render $n=500$. That will be quite slow to impossible unless you use more advanced methods. If you would like to get to larger numbers of polygons it is possible. Use a PolyCollection, as in [this post](https://stackoverflow.com/questions/37573314/matplotlib-efficient-way-to-create-large-number-of-patch-objects)."
   ]
  },
  {
   "cell_type": "markdown",
   "metadata": {},
   "source": [
    "### 7. Symbolic Manipulation\n",
    "\n",
    "Use sympy to specify and solve the following equations for $x$.\n",
    "\n",
    "- $x^2 + 2x - 1 = 0$ \n",
    "- $a x^2 + bx + c = 0$\n",
    "\n",
    "Also, evaluate the following integrals using sympy\n",
    "\n",
    "- $\\int x^2 dx$\n",
    "- $\\int x e^{6x} dx$\n",
    "- $\\int (3t+5)\\cos(\\frac{t}{4}) dt$"
   ]
  },
  {
   "cell_type": "markdown",
   "metadata": {},
   "source": [
    "### 8. Typesetting\n",
    "\n",
    "Use LaTeX to typeset the following equations.\n",
    "\n",
    "<img src=\"https://www.sciencealert.com/images/Equations_web.jpg\">\n",
    "\n",
    "<img src=\"https://wikimedia.org/api/rest_v1/media/math/render/svg/dd4df8b838eb08d67530dce5a512756666204499\">"
   ]
  }
 ],
 "metadata": {
  "kernelspec": {
   "display_name": "Python 3",
   "language": "python",
   "name": "python3"
  },
  "language_info": {
   "codemirror_mode": {
    "name": "ipython",
    "version": 3
   },
   "file_extension": ".py",
   "mimetype": "text/x-python",
   "name": "python",
   "nbconvert_exporter": "python",
   "pygments_lexer": "ipython3",
   "version": "3.7.3"
  }
 },
 "nbformat": 4,
 "nbformat_minor": 4
}
