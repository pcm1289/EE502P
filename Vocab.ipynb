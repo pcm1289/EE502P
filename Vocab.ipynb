{
 "cells": [
  {
   "cell_type": "markdown",
   "metadata": {},
   "source": [
    "# Week 2: Sets, functions, relations, and cardinality\n",
    "\n",
    "$\\in$ : Membership relation between elements and sets, read \"in\".\n",
    "\n",
    "$\\varnothing$: The empty set.\n",
    "\n",
    "$\\mathbb{N}$: The set of natural numbers $\\{0, 1, 2, 3, 4, ... \\}$. Sometimes 0 is not included.\n",
    "\n",
    "$\\mathbb{Z}$: The set of integers $\\{ 0, \\pm 1, \\pm 2, ... \\}$.\n",
    "\n",
    "$\\mathbb{Q}$: The set of rational numbers of the form $x/y$ where $x,y \\in \\mathbb{Z}$ and $y \\neq 0$.\n",
    "\n",
    "$\\mathbb{R}$: The real numbers.\n",
    "\n",
    "$\\subseteq$: The \"subset or equal\" relation on sets.\n",
    "\n",
    "$\\cap$: Set intersection.\n",
    "\n",
    "$\\cup$: Set union.\n",
    "\n",
    "$\\mathcal{P}(S)$: The power set of $S$, defined as the set of all subsets of $S$.\n",
    "\n",
    "$A \\times B$: The Cartesian product of $A$ and $B$ containing all tuples of the form $(a,b)$ where $a \\in A$ and $b \\in $B. \n",
    "\n",
    "$f: A \\rightarrow B$: States that $f$ is a function from the set $A$ into the set $B$.\n",
    "\n",
    "domain: If $f: A \\rightarrow B$, then $A$ is the domain.\n",
    "\n",
    "co-domain: If $f: A \\rightarrow B$, then $B$ is the co-domain. \n",
    "\n",
    "range: The range of a function is the set of elements in its co-domain mapped to from some element in the domain.\n",
    "\n",
    "surjective: A function is surjective if all elements in its co-domain are mapped to.\n",
    "\n",
    "injective: A function $f: A \\rightarrow B$ is injective if whenever $x \\neq y$, then $f(x) \\neq f(y)$.\n",
    "\n",
    "bijective: surjective and injective. Also called 1-1. \n",
    "\n",
    "$g \\circ f$: Function composition. $(g \\circ f)(x) = g(f(x))$. \n",
    "\n",
    "relation: A relation from $A$ to $B$ is a subset of $A \\times B$. \n",
    "\n",
    "reflexive: $a R a$\n",
    "\n",
    "symmetric: $a R b$ implies $b R a$\n",
    "\n",
    "antisymmetric: $a R b$ and $b R a$ implies $a = b$.\n",
    "\n",
    "transitive: $a R b$ and $b R c$ implies $a R c$.\n",
    "\n",
    "ordering: A relation that is reflexive, antisymmetric, and transitive.\n",
    "\n",
    "equivalence relation: A relation that is reflexive, symmetric, and transitive.\n",
    "\n",
    "$\\equiv_n$: The \"equivalence mod $n$\" relation. $a \\equiv_n b$ if and only if $a-b$ has remainder zero upon division by $n$.\n",
    "\n",
    "countably infinite: A set is countably infinite if it can be put in one to one correspondence to $\\mathbb{N}$.\n",
    "\n",
    "uncountable infinite: A set is uncountably infinite if it is not finite and cannot be put into one to one correspondence to $\\mathbb{N}$.\n",
    "\n",
    "Kolmogorov complexity: Informally, the Kolmogorov Complexity of a string size of the smallest program that produces that string as an output. "
   ]
  },
  {
   "cell_type": "code",
   "execution_count": null,
   "metadata": {
    "collapsed": true,
    "jupyter": {
     "outputs_hidden": true
    }
   },
   "outputs": [],
   "source": []
  }
 ],
 "metadata": {
  "kernelspec": {
   "display_name": "Python 3",
   "language": "python",
   "name": "python3"
  },
  "language_info": {
   "codemirror_mode": {
    "name": "ipython",
    "version": 3
   },
   "file_extension": ".py",
   "mimetype": "text/x-python",
   "name": "python",
   "nbconvert_exporter": "python",
   "pygments_lexer": "ipython3",
   "version": "3.7.3"
  }
 },
 "nbformat": 4,
 "nbformat_minor": 4
}
