{
 "cells": [
  {
   "cell_type": "markdown",
   "metadata": {},
   "source": [
    "EE 502 P: Analytical Methods\n",
    "# 2: Mathematical Preliminaries\n",
    "## Prof. Eric Klavins, Electrical and Computer Engineering\n",
    "### 25 September, 2019\n",
    "Copyright &copy; 2019, University of Washington"
   ]
  },
  {
   "cell_type": "markdown",
   "metadata": {},
   "source": [
    "In this lecture we describe the fundamental objects of mathematics: Sets, relations, functions, and cardinality. Understanding these concepts are the key to mathematical literacy. For this lecture, we will follow the **chapter one** of the following textbook fairly closely:\n",
    "\n",
    "> [An Introduction to Real Analysis](https://www.math.ucdavis.edu/~hunter/intro_analysis_pdf/ch1.pdf) by John K. Hunter,\n",
    "\n",
    "which is available for free online.\n",
    "\n",
    "Rather than repeating that chapter in this notebook, I will present my own take on the subject at the whiteboard using the following outline. \n",
    "\n",
    "- Sets\n",
    "  - Defs: sets, elements, the empty set\n",
    "  - Representation: finite, with ellipses, in words, set builder\n",
    "  - Examples\n",
    "    - Finite sets of numbers, strings, other sets, \n",
    "    - Naturals, integers, rationals, reals, complexes\n",
    "  - Subsets, Equality (in terms of subsets)\n",
    "  - The power set and an example\n",
    "  - Intersection, union, difference, complement (universe)\n",
    "  - Cartesian products, tuples\n",
    "  - Example: Dice, two dice, two dice summing to 7\n",
    "  - $\\mathbb{R}^n$ and vector notation\n",
    "  - Set proofs\n",
    "    - What is a proof?\n",
    "    - $ (A \\cap B) \\subseteq A$\n",
    "    - $A \\cup ( B \\cap C ) = (A \\cup B) \\cap (A \\cup C)$\n",
    "- Functions\n",
    "  - Definition (and synonyms). domain, codomain\n",
    "  - As a list of tuples, the identity function, characteristic function\n",
    "  - Example functions on $\\mathbb{Z}$\n",
    "  - Graph of a function as a subset of domain cross co-domain\n",
    "  - Range, surjection (onto), injection(1-1), bijection\n",
    "  - Note positive proofs vs negative counterexamples\n",
    "  - Examples: Which of the above are surjections, injections, and/or bijections?\n",
    "  - Composition and inverse, definition, domains, and codomains\n",
    "  - Examples from real numbers\n",
    "- Relations\n",
    "  - Definitions\n",
    "  - Examples\n",
    "    - List of tuples, \"has read\", has a common factor \n",
    "    - Function graphs are relations, but not conversely (in general)\n",
    "  - Order relations\n",
    "    - Less than, subset, divides\n",
    "  - Equivalence relations\n",
    "    - reduces to (for fractions), equal mod\n",
    "- Cardinality, and types of infinity\n",
    "  - Countable\n",
    "    - Definition\n",
    "    - Examples: Even numbers, rationals\n",
    "  - Uncountable\n",
    "    - Reals\n",
    "    - [0,1]\n",
    "    - Binary sequences\n",
    "    - Functions from {0,...,9} to {0,...,9}\n",
    "  - Uncomputable functions\n",
    "\n",
    "I will then discuss how to represent sets, relations, functions and cardinality in Python using the remainder of this notebook. "
   ]
  },
  {
   "cell_type": "code",
   "execution_count": 1,
   "metadata": {
    "ExecuteTime": {
     "end_time": "2019-10-03T03:59:13.135630Z",
     "start_time": "2019-10-03T03:59:12.214706Z"
    }
   },
   "outputs": [],
   "source": [
    "import math\n",
    "import sympy as sm\n",
    "sm.init_printing(use_latex='mathjax')\n",
    "import matplotlib.pyplot as plt\n",
    "import matplotlib.patches as pch\n",
    "%matplotlib inline"
   ]
  },
  {
   "cell_type": "markdown",
   "metadata": {},
   "source": [
    "# Sets"
   ]
  },
  {
   "cell_type": "markdown",
   "metadata": {},
   "source": [
    "Python has a built in set object, which is documented here:\n",
    "\n",
    "> https://docs.python.org/2/library/stdtypes.html#set\n",
    "\n",
    "It is intended for representing finite sets of objects. Note that these objects are *not* the same as lists. There is no implicit ordering and each element can only show up once. \n",
    "\n",
    "All of the standard relations and operations on sets are supported, including $\\in$, $\\subseteq$, $=$, $\\cap$, $\\cup$, and $-$. In addition, you can use `len` to get the size of the set.\n",
    "\n",
    "To construct sets, you can simply use curly braces. You can also create sets from lists and lists from sets, using `set(L)` and `list(S)` where `L` is a list and `S` is a set.\n",
    "\n",
    "Sets can be constructed with comprehensions, just like lists. Use curly braces instead of square brackets. \n",
    "\n",
    "The empty set is constructed using `set()` (i.e. with no arguments). "
   ]
  },
  {
   "cell_type": "code",
   "execution_count": 2,
   "metadata": {
    "ExecuteTime": {
     "end_time": "2019-10-03T04:04:17.647153Z",
     "start_time": "2019-10-03T04:04:17.642394Z"
    }
   },
   "outputs": [
    {
     "data": {
      "text/plain": [
       "({1, 2, 3}, set, 3)"
      ]
     },
     "execution_count": 2,
     "metadata": {},
     "output_type": "execute_result"
    }
   ],
   "source": [
    "# Listing elements\n",
    "\n",
    "A = { 1, 2, 3, 3 }\n",
    "A, type(A), len(A)"
   ]
  },
  {
   "cell_type": "code",
   "execution_count": 3,
   "metadata": {
    "ExecuteTime": {
     "end_time": "2019-10-03T04:00:38.882313Z",
     "start_time": "2019-10-03T04:00:38.877506Z"
    }
   },
   "outputs": [
    {
     "name": "stdout",
     "output_type": "stream",
     "text": [
      "{} <class 'dict'> 0\n",
      "set() 0\n"
     ]
    }
   ],
   "source": [
    "# The empty set\n",
    "\n",
    "E = {} \n",
    "E_2 = set()\n",
    "print(E, type(E), len(E))\n",
    "print(E_2, len(E_2))"
   ]
  },
  {
   "cell_type": "code",
   "execution_count": 4,
   "metadata": {
    "ExecuteTime": {
     "end_time": "2019-10-03T04:01:05.249737Z",
     "start_time": "2019-10-03T04:01:05.244353Z"
    }
   },
   "outputs": [
    {
     "data": {
      "text/latex": [
       "$\\displaystyle \\left\\{1, 3, 5, 7, 9\\right\\}$"
      ],
      "text/plain": [
       "{1, 3, 5, 7, 9}"
      ]
     },
     "execution_count": 4,
     "metadata": {},
     "output_type": "execute_result"
    }
   ],
   "source": [
    "# Using a set comprehension, which is like set builder notation\n",
    "\n",
    "B = { x for x in range(10) if x%2 != 0 }\n",
    "B"
   ]
  },
  {
   "cell_type": "code",
   "execution_count": 5,
   "metadata": {
    "ExecuteTime": {
     "end_time": "2019-10-03T04:01:30.520264Z",
     "start_time": "2019-10-03T04:01:30.516156Z"
    }
   },
   "outputs": [
    {
     "data": {
      "text/plain": [
       "(True, False)"
      ]
     },
     "execution_count": 5,
     "metadata": {},
     "output_type": "execute_result"
    }
   ],
   "source": [
    "# Checking whether an element is in a set\n",
    "1 in A, 3 not in B"
   ]
  },
  {
   "cell_type": "code",
   "execution_count": 6,
   "metadata": {
    "ExecuteTime": {
     "end_time": "2019-10-03T04:03:17.800081Z",
     "start_time": "2019-10-03T04:03:17.790502Z"
    }
   },
   "outputs": [
    {
     "name": "stdout",
     "output_type": "stream",
     "text": [
      "{1, 3}\n",
      "{1, 2, 3, 5, 7, 9}\n",
      "{2}\n",
      "False\n",
      "True\n",
      "True\n"
     ]
    },
    {
     "data": {
      "text/plain": [
       "({2, 5, 7, 9}, {2, 5, 7, 9}, True)"
      ]
     },
     "execution_count": 6,
     "metadata": {},
     "output_type": "execute_result"
    }
   ],
   "source": [
    "# Set relations\n",
    "\n",
    "print(A.intersection(B))\n",
    "print(A.union(B))\n",
    "print(A.difference(B))\n",
    "print(A.isdisjoint(B))\n",
    "print({3,5}.issubset(B))\n",
    "print({3,5} <= B) # equivalent\n",
    "\n",
    "D1 = A.symmetric_difference(B)\n",
    "D2 = A.union(B).difference(A.intersection(B))\n",
    "D1, D2, D1 == D2"
   ]
  },
  {
   "cell_type": "code",
   "execution_count": 7,
   "metadata": {
    "ExecuteTime": {
     "end_time": "2019-10-03T04:04:22.247182Z",
     "start_time": "2019-10-03T04:04:22.242460Z"
    }
   },
   "outputs": [
    {
     "data": {
      "text/latex": [
       "$\\displaystyle \\left( 1, \\  \\left\\{2, 3\\right\\}\\right)$"
      ],
      "text/plain": [
       "(1, {2, 3})"
      ]
     },
     "execution_count": 7,
     "metadata": {},
     "output_type": "execute_result"
    }
   ],
   "source": [
    "# Removing elements\n",
    "a = A.pop()\n",
    "a, A"
   ]
  },
  {
   "cell_type": "code",
   "execution_count": 8,
   "metadata": {
    "ExecuteTime": {
     "end_time": "2019-10-03T04:04:23.574220Z",
     "start_time": "2019-10-03T04:04:23.569426Z"
    }
   },
   "outputs": [
    {
     "data": {
      "text/latex": [
       "$\\displaystyle \\left\\{2, 3, 12\\right\\}$"
      ],
      "text/plain": [
       "{2, 3, 12}"
      ]
     },
     "execution_count": 8,
     "metadata": {},
     "output_type": "execute_result"
    }
   ],
   "source": [
    "# Adding elements\n",
    "\n",
    "A.add(12)\n",
    "A"
   ]
  },
  {
   "cell_type": "code",
   "execution_count": 9,
   "metadata": {
    "ExecuteTime": {
     "end_time": "2019-10-03T04:04:34.751441Z",
     "start_time": "2019-10-03T04:04:34.745878Z"
    }
   },
   "outputs": [
    {
     "data": {
      "text/latex": [
       "$\\displaystyle \\left( \\left\\{3\\right\\}, \\  \\left\\{2, 3, 12\\right\\}\\right)$"
      ],
      "text/plain": [
       "({3}, {2, 3, 12})"
      ]
     },
     "execution_count": 9,
     "metadata": {},
     "output_type": "execute_result"
    }
   ],
   "source": [
    "# Copying\n",
    "\n",
    "C = A.copy()\n",
    "A.remove(12)\n",
    "A.discard(2)\n",
    "A, C"
   ]
  },
  {
   "cell_type": "code",
   "execution_count": 10,
   "metadata": {
    "ExecuteTime": {
     "end_time": "2019-10-03T04:04:58.349584Z",
     "start_time": "2019-10-03T04:04:58.345242Z"
    }
   },
   "outputs": [
    {
     "data": {
      "text/latex": [
       "$\\displaystyle \\left\\{\\right\\}$"
      ],
      "text/plain": [
       "set()"
      ]
     },
     "execution_count": 10,
     "metadata": {},
     "output_type": "execute_result"
    }
   ],
   "source": [
    "C.clear()\n",
    "C"
   ]
  },
  {
   "cell_type": "code",
   "execution_count": 11,
   "metadata": {
    "ExecuteTime": {
     "end_time": "2019-10-03T04:06:05.416014Z",
     "start_time": "2019-10-03T04:06:05.412733Z"
    }
   },
   "outputs": [
    {
     "name": "stdout",
     "output_type": "stream",
     "text": [
      "{(5, 9), (4, 7), (6, 9), (4, 8), (2, 8), (3, 11), (4, 12), (2, 12), (3, 7), (1, 11), (5, 8), (4, 9), (6, 7), (2, 9), (3, 10), (6, 10), (5, 12), (1, 10), (4, 10), (5, 11), (6, 11), (2, 10), (3, 9), (1, 9), (6, 12), (4, 11), (2, 7), (3, 12), (6, 8), (1, 12), (5, 10), (5, 7), (2, 11), (3, 8), (1, 8), (1, 7)}\n"
     ]
    }
   ],
   "source": [
    "# To do the cartesian product, you can define a function\n",
    "# Try: Define a function that takes a list of sets and returns their n-fold cartesian product\n",
    "\n",
    "def cartesian_product(X,Y):\n",
    "    return {(x,y) for x in X for y in Y}\n",
    "\n",
    "def n_fold_cartesian_product(X_list, Y_list):\n",
    "    res = set()\n",
    "    for X in X_list:\n",
    "        for Y in Y_list:\n",
    "            res = res.union(cartesian_product(X,Y))\n",
    "    return res\n",
    "\n",
    "sets_0 = [\n",
    "    {1,2},\n",
    "    {3,4},\n",
    "    {5,6}\n",
    "]\n",
    "\n",
    "sets_1 = [\n",
    "    {7,8},\n",
    "    {9,10},\n",
    "    {11,12},\n",
    "]\n",
    "\n",
    "print(n_fold_cartesian_product(sets_0, sets_1))"
   ]
  },
  {
   "cell_type": "code",
   "execution_count": 12,
   "metadata": {
    "ExecuteTime": {
     "end_time": "2019-10-03T04:06:43.307393Z",
     "start_time": "2019-10-03T04:06:43.302290Z"
    }
   },
   "outputs": [
    {
     "name": "stdout",
     "output_type": "stream",
     "text": [
      "{(1, 3), (6, 6), (5, 6), (2, 1), (6, 2), (1, 6), (5, 1), (2, 5), (1, 2), (3, 3), (5, 5), (4, 4), (6, 3), (1, 5), (3, 6), (2, 2), (4, 1), (1, 1), (6, 4), (3, 2), (2, 6), (5, 4), (4, 5), (5, 2), (1, 4), (2, 3), (4, 2), (6, 5), (3, 5), (5, 3), (4, 6), (6, 1), (3, 1), (4, 3), (3, 4), (2, 4)} \n",
      "\n",
      "{(6, 1), (1, 6), (4, 3), (3, 4), (2, 5), (5, 2)}\n"
     ]
    }
   ],
   "source": [
    "# Dice example\n",
    "\n",
    "die = {1,2,3,4,5,6}\n",
    "twodice = cartesian_product(die,die)\n",
    "seven = { p for p in twodice if p[0] + p[1] == 7 }\n",
    "print(twodice, \"\\n\")\n",
    "print(seven)"
   ]
  },
  {
   "cell_type": "code",
   "execution_count": 13,
   "metadata": {
    "ExecuteTime": {
     "end_time": "2019-10-03T04:08:51.286969Z",
     "start_time": "2019-10-03T04:08:51.278314Z"
    }
   },
   "outputs": [
    {
     "ename": "TypeError",
     "evalue": "unhashable type: 'set'",
     "output_type": "error",
     "traceback": [
      "\u001b[1;31m---------------------------------------------------------------------------\u001b[0m",
      "\u001b[1;31mTypeError\u001b[0m                                 Traceback (most recent call last)",
      "\u001b[1;32m<ipython-input-13-5c204b52ad3b>\u001b[0m in \u001b[0;36m<module>\u001b[1;34m\u001b[0m\n\u001b[0;32m      4\u001b[0m \u001b[1;33m\u001b[0m\u001b[0m\n\u001b[0;32m      5\u001b[0m \u001b[0mA\u001b[0m \u001b[1;33m=\u001b[0m \u001b[1;33m{\u001b[0m\u001b[1;36m1\u001b[0m\u001b[1;33m,\u001b[0m\u001b[1;36m2\u001b[0m\u001b[1;33m}\u001b[0m\u001b[1;33m\u001b[0m\u001b[1;33m\u001b[0m\u001b[0m\n\u001b[1;32m----> 6\u001b[1;33m \u001b[0mS\u001b[0m \u001b[1;33m=\u001b[0m \u001b[0mset\u001b[0m\u001b[1;33m(\u001b[0m\u001b[1;33m{\u001b[0m\u001b[0mA\u001b[0m\u001b[1;33m}\u001b[0m\u001b[1;33m)\u001b[0m\u001b[1;33m\u001b[0m\u001b[1;33m\u001b[0m\u001b[0m\n\u001b[0m\u001b[0;32m      7\u001b[0m \u001b[1;31m#S.add(set([set(A)]))\u001b[0m\u001b[1;33m\u001b[0m\u001b[1;33m\u001b[0m\u001b[1;33m\u001b[0m\u001b[0m\n\u001b[0;32m      8\u001b[0m \u001b[1;31m#set([set(A)])\u001b[0m\u001b[1;33m\u001b[0m\u001b[1;33m\u001b[0m\u001b[1;33m\u001b[0m\u001b[0m\n",
      "\u001b[1;31mTypeError\u001b[0m: unhashable type: 'set'"
     ]
    }
   ],
   "source": [
    "# Sets of sets: This won't work becuase Python sets need to have immutable elements. \n",
    "# But with the definition below, if you had a variable pointing to {1,2} you could change it,\n",
    "# thereby changing the set.\n",
    "\n",
    "A = {1,2}\n",
    "S = set({A})\n",
    "#S.add(set([set(A)]))\n",
    "#set([set(A)])\n",
    "#print(dir(S))\n",
    "A.add(3)\n",
    "#?S.add\n",
    "S"
   ]
  },
  {
   "cell_type": "code",
   "execution_count": null,
   "metadata": {
    "ExecuteTime": {
     "end_time": "2019-10-03T04:10:02.819135Z",
     "start_time": "2019-10-03T04:10:02.813819Z"
    }
   },
   "outputs": [],
   "source": [
    "# To solve this problem, you use the built in type `frozenset`, which supports\n",
    "# all the functions that `set` does, except for those that modify the set.\n",
    "\n",
    "A = {1,2}\n",
    "S = { frozenset(A) }\n",
    "S"
   ]
  },
  {
   "cell_type": "markdown",
   "metadata": {},
   "source": [
    "### The Power Set\n",
    "\n",
    "The Power Set is also easy to define. This definition uses recursion. In particular,\n",
    "we use the fact that the power set of $S$ is equal to the set of sets resulting from removing\n",
    "a single element from $S$, unioned together with the their power sets. That is,\n",
    "\n",
    "$$\n",
    "\\mathcal{P}(S) = \\{ S \\} \\cup \\bigcup_{x \\in S} \\{ S - \\{x\\} \\} \\cup \\mathcal{P}(S - \\{x\\})\n",
    "$$"
   ]
  },
  {
   "cell_type": "code",
   "execution_count": null,
   "metadata": {
    "ExecuteTime": {
     "end_time": "2019-10-03T04:11:59.661140Z",
     "start_time": "2019-10-03T04:11:59.651476Z"
    }
   },
   "outputs": [],
   "source": [
    "def power_set(S):\n",
    "    P = set()\n",
    "    P.add(frozenset(S))\n",
    "    for x in S:\n",
    "        T = S.copy()\n",
    "        T.remove(x)\n",
    "        P = P.union(power_set(T))\n",
    "    return P\n",
    "\n",
    "S = {1,2,3,4}\n",
    "for s in power_set(S):\n",
    "    print(set(s))"
   ]
  },
  {
   "cell_type": "markdown",
   "metadata": {},
   "source": [
    "# Tuples"
   ]
  },
  {
   "cell_type": "code",
   "execution_count": null,
   "metadata": {
    "ExecuteTime": {
     "end_time": "2019-10-03T04:13:43.367283Z",
     "start_time": "2019-10-03T04:13:43.360977Z"
    }
   },
   "outputs": [],
   "source": [
    "# Tuples are a built in type in Python. You can treat them somewhat like lists.\n",
    "\n",
    "x = (1,2,3)\n",
    "y = (4,5,6)\n",
    "S = { x, y }\n",
    "print(\"S =\", S )\n",
    "print(\"x =\", x )\n",
    "print(\"x[0] =\", x[0])"
   ]
  },
  {
   "cell_type": "code",
   "execution_count": null,
   "metadata": {
    "ExecuteTime": {
     "end_time": "2019-10-03T04:13:43.979971Z",
     "start_time": "2019-10-03T04:13:43.975627Z"
    }
   },
   "outputs": [],
   "source": [
    "# Python supports multiple assignments in one step using tuples (or lists for that matter)\n",
    "\n",
    "a,b,c = x\n",
    "b"
   ]
  },
  {
   "cell_type": "markdown",
   "metadata": {},
   "source": [
    "# Relations"
   ]
  },
  {
   "cell_type": "code",
   "execution_count": 1,
   "metadata": {
    "ExecuteTime": {
     "end_time": "2019-10-03T04:14:32.586734Z",
     "start_time": "2019-10-03T04:14:32.581290Z"
    }
   },
   "outputs": [
    {
     "data": {
      "text/plain": [
       "(False, True)"
      ]
     },
     "execution_count": 1,
     "metadata": {},
     "output_type": "execute_result"
    }
   ],
   "source": [
    "# Recall that a relation is just a set of tuples. \n",
    "\n",
    "R = {\n",
    "    (1,2),\n",
    "    (2,3),\n",
    "    (3,4)\n",
    "}\n",
    "\n",
    "# This is how you have to write 1 R 3 and 1 R 2\n",
    "(1,3) in R, (1,2) in R "
   ]
  },
  {
   "cell_type": "code",
   "execution_count": null,
   "metadata": {
    "ExecuteTime": {
     "end_time": "2019-10-03T04:14:40.661229Z",
     "start_time": "2019-10-03T04:14:40.657018Z"
    }
   },
   "outputs": [],
   "source": [
    "# Of course, Python has all sorts of relations predefined\n",
    "\n",
    "1 < 2\n",
    "4 != 5"
   ]
  },
  {
   "cell_type": "code",
   "execution_count": null,
   "metadata": {
    "ExecuteTime": {
     "end_time": "2019-10-03T04:15:19.149905Z",
     "start_time": "2019-10-03T04:15:19.144861Z"
    }
   },
   "outputs": [],
   "source": [
    "# Since Python's relations are on (essentially) infinite sets, they are defined as functions. \n",
    "# You can also define relations in infinte sets. Such definitions take a pair of elements and\n",
    "# return true or false.\n",
    "\n",
    "def divides(x,y):\n",
    "    return x != y and x != 0 and y % x == 0\n",
    "\n",
    "divides(3,12)"
   ]
  },
  {
   "cell_type": "code",
   "execution_count": null,
   "metadata": {
    "ExecuteTime": {
     "end_time": "2019-10-03T04:16:06.990893Z",
     "start_time": "2019-10-03T04:16:06.971936Z"
    }
   },
   "outputs": [],
   "source": [
    "# ... and combined with set builder notation\n",
    "\n",
    "n = 20\n",
    "D = { (x,y) for x in range(1,n) for y in range(1,n) if divides(x,y)}\n",
    "D"
   ]
  },
  {
   "cell_type": "code",
   "execution_count": null,
   "metadata": {
    "ExecuteTime": {
     "end_time": "2019-10-03T04:16:26.177909Z",
     "start_time": "2019-10-03T04:16:25.961111Z"
    }
   },
   "outputs": [],
   "source": [
    "# ... and plotted. The is a common way to draw finite relations, with arrows from a to b\n",
    "# for every (a,b) in R. \n",
    "\n",
    "points = [ \n",
    "    (\n",
    "        math.cos(2*math.pi*i / n), \n",
    "        math.sin(2*math.pi*i / n)\n",
    "    ) for i in range(1,n)\n",
    "]\n",
    "\n",
    "for i,p in enumerate(points):\n",
    "    if i != 0:\n",
    "        plt.text(1.1*p[0],1.1*p[1],i+1)\n",
    "    \n",
    "for x in range(1,n):\n",
    "    for y in range(1,n):\n",
    "        if x != 1 and (x,y) in D:\n",
    "            plt.arrow(\n",
    "                points[x-1][0], \n",
    "                points[x-1][1], \n",
    "                0.95*(points[y-1][0] - points[x-1][0]), \n",
    "                0.95*(points[y-1][1] - points[x-1][1]),\n",
    "                head_width=0.03,\n",
    "                length_includes_head=True)\n",
    "\n",
    "plt.xlim(-1,1)\n",
    "plt.ylim(-1,1)\n",
    "plt.axis(\"off\");\n",
    "plt.title(\"Divides relation on [2,19]\\n\");"
   ]
  },
  {
   "cell_type": "code",
   "execution_count": null,
   "metadata": {
    "ExecuteTime": {
     "end_time": "2019-10-03T04:19:22.252056Z",
     "start_time": "2019-10-03T04:19:22.245175Z"
    }
   },
   "outputs": [],
   "source": [
    "# A predecessor of y with respect to the relation R is the set { x | x R y }\n",
    "# The elements that only have 1 as predecessor in the relation are prime\n",
    "\n",
    "def preds(y):\n",
    "    return { x for x in range(n) if (x,y) in D }\n",
    "\n",
    "{ y for (x,y) in D if len(preds(y)) == 1 }"
   ]
  },
  {
   "cell_type": "markdown",
   "metadata": {},
   "source": [
    "# Functions"
   ]
  },
  {
   "cell_type": "code",
   "execution_count": null,
   "metadata": {
    "ExecuteTime": {
     "end_time": "2019-10-03T04:20:46.970456Z",
     "start_time": "2019-10-03T04:20:46.966040Z"
    }
   },
   "outputs": [],
   "source": [
    "# In Python you can represent functions with a finite numbner of elements as dictionaries\n",
    "\n",
    "f = { 1: 2, 2: 3 }\n",
    "f[1]"
   ]
  },
  {
   "cell_type": "code",
   "execution_count": null,
   "metadata": {
    "ExecuteTime": {
     "end_time": "2019-10-03T04:21:08.188620Z",
     "start_time": "2019-10-03T04:21:08.183986Z"
    }
   },
   "outputs": [],
   "source": [
    "# Note that the dictionary format prevents you from mapping a single element to two elements in the range\n",
    "\n",
    "f = { 1: 2, 1: 3 }\n",
    "f"
   ]
  },
  {
   "cell_type": "code",
   "execution_count": null,
   "metadata": {
    "ExecuteTime": {
     "end_time": "2019-10-03T04:21:37.808611Z",
     "start_time": "2019-10-03T04:21:37.801274Z"
    }
   },
   "outputs": [],
   "source": [
    "# You can compute the domain and range of a function\n",
    "\n",
    "def domain(F):\n",
    "    return set(F.keys())\n",
    "\n",
    "def frange(F):\n",
    "    return set(F.values())\n",
    "\n",
    "f = {1: 2, 2: 3}\n",
    "\n",
    "domain(f), frange(f)"
   ]
  },
  {
   "cell_type": "code",
   "execution_count": null,
   "metadata": {
    "ExecuteTime": {
     "end_time": "2019-10-03T04:22:28.148909Z",
     "start_time": "2019-10-03T04:22:28.141638Z"
    }
   },
   "outputs": [],
   "source": [
    "# You can write a simple function to compute the composition of two functions\n",
    "\n",
    "def compose(F, G):\n",
    "    H = {}\n",
    "    for x in domain(F):\n",
    "        H[x] = G[F[x]]\n",
    "    return H\n",
    "\n",
    "\n",
    "f = {1: 2, 2: 3}\n",
    "g = {2: 20, 3: 30}\n",
    "compose(f,g)  "
   ]
  },
  {
   "cell_type": "markdown",
   "metadata": {},
   "source": [
    "### Functions in Python\n",
    "\n",
    "Of course, functions in Python are defined using `def`. They can actually be treated as objects as well, and passed around as arguments, and so on.\n",
    "\n",
    "Another way to define functions is with a `lambda` expression, a concept available in most programming languages. This is used when you may not want to name the function, or if you need to write a function that returns another function."
   ]
  },
  {
   "cell_type": "code",
   "execution_count": null,
   "metadata": {
    "ExecuteTime": {
     "end_time": "2019-10-03T04:24:04.010438Z",
     "start_time": "2019-10-03T04:24:04.007810Z"
    }
   },
   "outputs": [],
   "source": [
    "def F(x):\n",
    "    return x + 1"
   ]
  },
  {
   "cell_type": "code",
   "execution_count": null,
   "metadata": {
    "ExecuteTime": {
     "end_time": "2019-10-03T04:24:25.691420Z",
     "start_time": "2019-10-03T04:24:25.686875Z"
    }
   },
   "outputs": [],
   "source": [
    "# Lambda example\n",
    "\n",
    "F = lambda x : x + 1\n",
    "\n",
    "F(123)"
   ]
  },
  {
   "cell_type": "code",
   "execution_count": null,
   "metadata": {
    "ExecuteTime": {
     "end_time": "2019-10-03T04:25:05.872569Z",
     "start_time": "2019-10-03T04:25:05.868963Z"
    }
   },
   "outputs": [],
   "source": [
    "# Using this idea, we can convert a dictionary into a full fledged lambda function.\n",
    "\n",
    "def dict_to_function(F):\n",
    "    return lambda x : F[x] if x in domain(F) else None\n",
    "\n",
    "F = dict_to_function(f) \n",
    "F"
   ]
  },
  {
   "cell_type": "code",
   "execution_count": null,
   "metadata": {
    "ExecuteTime": {
     "end_time": "2019-10-03T04:25:15.273606Z",
     "start_time": "2019-10-03T04:25:15.235348Z"
    }
   },
   "outputs": [],
   "source": [
    "type(f), type(F)"
   ]
  },
  {
   "cell_type": "code",
   "execution_count": null,
   "metadata": {
    "ExecuteTime": {
     "end_time": "2019-10-03T04:25:43.752893Z",
     "start_time": "2019-10-03T04:25:43.748714Z"
    }
   },
   "outputs": [],
   "source": [
    "f[1], F(1)"
   ]
  },
  {
   "cell_type": "code",
   "execution_count": null,
   "metadata": {
    "ExecuteTime": {
     "end_time": "2019-10-02T18:53:49.092862Z",
     "start_time": "2019-10-02T18:53:49.088512Z"
    }
   },
   "outputs": [],
   "source": [
    "FOG = dict_to_function(compose(f,g))\n",
    "FOG(1)"
   ]
  },
  {
   "cell_type": "code",
   "execution_count": null,
   "metadata": {
    "ExecuteTime": {
     "end_time": "2019-10-03T04:27:47.838263Z",
     "start_time": "2019-10-03T04:27:47.834085Z"
    }
   },
   "outputs": [],
   "source": [
    "(lambda x, y : x + y)(1,2)"
   ]
  },
  {
   "cell_type": "code",
   "execution_count": null,
   "metadata": {
    "ExecuteTime": {
     "end_time": "2019-10-03T04:28:05.626291Z",
     "start_time": "2019-10-03T04:28:05.622315Z"
    }
   },
   "outputs": [],
   "source": [
    "type(lambda x, y : x + y)"
   ]
  },
  {
   "cell_type": "markdown",
   "metadata": {},
   "source": [
    "# Numbers"
   ]
  },
  {
   "cell_type": "code",
   "execution_count": null,
   "metadata": {
    "ExecuteTime": {
     "end_time": "2019-10-03T04:29:07.498449Z",
     "start_time": "2019-10-03T04:29:07.493625Z"
    }
   },
   "outputs": [],
   "source": [
    "# The set Z of Integers is formally represented via sympy. But you can also just use\n",
    "# Python ints, but they have size limits.\n",
    "\n",
    "import sympy as sm\n",
    "\n",
    "sm.Integer(1)"
   ]
  },
  {
   "cell_type": "code",
   "execution_count": null,
   "metadata": {
    "ExecuteTime": {
     "end_time": "2019-10-03T04:29:11.796857Z",
     "start_time": "2019-10-03T04:29:11.792550Z"
    }
   },
   "outputs": [],
   "source": [
    "# Rationals\n",
    "\n",
    "sm.Rational(1,2)"
   ]
  },
  {
   "cell_type": "code",
   "execution_count": null,
   "metadata": {
    "ExecuteTime": {
     "end_time": "2019-10-03T04:29:14.084262Z",
     "start_time": "2019-10-03T04:29:14.079483Z"
    }
   },
   "outputs": [],
   "source": [
    "# Algebraic and not rational\n",
    "\n",
    "sm.sqrt(2)"
   ]
  },
  {
   "cell_type": "code",
   "execution_count": null,
   "metadata": {
    "ExecuteTime": {
     "end_time": "2019-10-03T04:29:20.721414Z",
     "start_time": "2019-10-03T04:29:20.717036Z"
    }
   },
   "outputs": [],
   "source": [
    "# Transcendental\n",
    "\n",
    "sm.pi, sm.E"
   ]
  },
  {
   "cell_type": "code",
   "execution_count": null,
   "metadata": {
    "ExecuteTime": {
     "end_time": "2019-10-03T04:29:53.490490Z",
     "start_time": "2019-10-03T04:29:53.486051Z"
    }
   },
   "outputs": [],
   "source": [
    "# Working with transcendental numbers\n",
    "# And my favorite equation\n",
    "\n",
    "sm.E**(sm.pi * sm.I) == -1"
   ]
  },
  {
   "cell_type": "markdown",
   "metadata": {},
   "source": [
    "# Interesting Sets"
   ]
  },
  {
   "cell_type": "code",
   "execution_count": 18,
   "metadata": {
    "ExecuteTime": {
     "end_time": "2019-10-03T04:30:17.754418Z",
     "start_time": "2019-10-03T04:30:14.911935Z"
    },
    "scrolled": true
   },
   "outputs": [
    {
     "name": "stdout",
     "output_type": "stream",
     "text": [
      "{'7', 'k', '0', 'a', 't', 'j', '8', '#', 'u', 'm', 's', 'O', '_', 'g', 'p', 'r', 'b', 'M', 'Y', 'Z', 'S', 'J', 'N', 'B', 'K', 'U', 'l', 'o', 'A', '1', 'c', 'L', 'z', 'G', 'P', 'h', 'd', 'H', 'W', 'Q', 'E', 'V', '3', 'F', 'f', ' ', 'q', 'n', 'C', 'e', '2', 'i', 'w', '4', 'x', 'D', 'v', 'y', 'T', '5', 'X', '9', 'I', '6', '\\\\', 'R'}\n"
     ]
    },
    {
     "data": {
      "text/plain": [
       "True"
      ]
     },
     "execution_count": 18,
     "metadata": {},
     "output_type": "execute_result"
    }
   ],
   "source": [
    "# Python programs\n",
    "\n",
    "import ast\n",
    "\n",
    "def is_python(expr):\n",
    "    try:\n",
    "        ast.parse(expr)\n",
    "        return True\n",
    "    except:\n",
    "        return False\n",
    "    \n",
    "chars = '0123456789abcdefghijklmnopqrstuvwxyzABCDEFGHIJKLMNOPQRSTUVWXYZ!\"#$%&\\'()*+,-./:;<=>?@[\\\\]^_`{|}~ '\n",
    "strings = chars\n",
    "p = { expr for s in strings for expr in s if is_python(expr) }\n",
    "print(p)\n",
    "\n",
    "strings = [s + c for s in strings for c in chars]\n",
    "p = p.union({ s for s in strings if is_python(s)})\n",
    "\n",
    "strings = [s + c for s in strings for c in chars]\n",
    "p = p.union({ s for s in strings if is_python(s)})\n",
    "\n",
    "\"f()\" in p"
   ]
  },
  {
   "cell_type": "code",
   "execution_count": null,
   "metadata": {},
   "outputs": [],
   "source": []
  }
 ],
 "metadata": {
  "kernelspec": {
   "display_name": "Python 3",
   "language": "python",
   "name": "python3"
  },
  "language_info": {
   "codemirror_mode": {
    "name": "ipython",
    "version": 3
   },
   "file_extension": ".py",
   "mimetype": "text/x-python",
   "name": "python",
   "nbconvert_exporter": "python",
   "pygments_lexer": "ipython3",
   "version": "3.7.3"
  }
 },
 "nbformat": 4,
 "nbformat_minor": 4
}
