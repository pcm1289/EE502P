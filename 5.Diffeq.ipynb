{
 "cells": [
  {
   "cell_type": "markdown",
   "metadata": {},
   "source": [
    "EE 502 P: Analytical Methods\n",
    "# 5. Transforms\n",
    "## Prof. Eric Klavins, Electrical and Computer Engineering\n",
    "### 25 September, 2019\n",
    "Copyright &copy; 2019, University of Washington"
   ]
  },
  {
   "cell_type": "markdown",
   "metadata": {
    "collapsed": true
   },
   "source": [
    "https://www.mathpages.com/home/kmath640/kmath640.htm\n",
    "\n",
    "Depending on how much of elementary linear algebra and differential equations we take for granted, the proof of the Cayley-Hamilton theorem can be fairly immediate. For an arbitrary square matrix M with characteristic equation f(z) = 0, the general solution of the linear system  is given by x(t) = eMtx(0). We also know that each component of x(t) individually satisfies the differential operator form of the characteristic equation, so we have f(d/dt)x(t) = 0. Inserting the expression for x(t), we get f(M)eMtx(0) = 0, and since this must be true for any initial conditions x(0), it follows that f(M) = 0, which was to be proven."
   ]
  }
 ],
 "metadata": {
  "kernelspec": {
   "display_name": "Python 3",
   "language": "python",
   "name": "python3"
  },
  "language_info": {
   "codemirror_mode": {
    "name": "ipython",
    "version": 3
   },
   "file_extension": ".py",
   "mimetype": "text/x-python",
   "name": "python",
   "nbconvert_exporter": "python",
   "pygments_lexer": "ipython3",
   "version": "3.6.1"
  }
 },
 "nbformat": 4,
 "nbformat_minor": 2
}
